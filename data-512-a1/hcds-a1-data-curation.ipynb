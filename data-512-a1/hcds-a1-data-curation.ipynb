{
 "cells": [
  {
   "cell_type": "markdown",
   "metadata": {},
   "source": [
    "<h1>DATA 512 Human-Centered Data Science\n",
    "<h2>A1 : Data Curation"
   ]
  },
  {
   "cell_type": "markdown",
   "metadata": {},
   "source": [
    "The goal of this assignment is to construct, analyze, and publish a dataset of monthly traffic on English Wikipedia from January 1 2008 through August 30 2020.We will combine data about Wikipedia page traffic from two different [Wikimedia REST API](https://www.mediawiki.org/wiki/Wikimedia_REST_API) endpoints into a single dataset, perform some simple data processing steps on the data, and then analyze the data visually."
   ]
  },
  {
   "cell_type": "markdown",
   "metadata": {},
   "source": [
    "<h2> Step 1: Gathering the data </h2>\n",
    "\n",
    "In order to measure Wikipedia traffic from 2008-2020, as a first step, we collect data from two different API endpoints, the Legacy Pagecounts API and the Pageviews API.\n",
    "\n",
    "* The Legacy Pagecounts API ([documentation](https://wikitech.wikimedia.org/wiki/Analytics/AQS/Legacy_Pagecounts), [endpoint](https://wikimedia.org/api/rest_v1/#/Pagecounts_data_(legacy)/get_metrics_legacy_pagecounts_aggregate_project_access_site_granularity_start_end)) provides access to desktop and mobile traffic data from December 2007 through July 2016.\n",
    "* The Pageviews API ([documentation](https://wikitech.wikimedia.org/wiki/Analytics/AQS/Pageviews), [endpoint](https://wikimedia.org/api/rest_v1/#/Pageviews_data/get_metrics_pageviews_aggregate_project_access_agent_granularity_start_end)) provides access to desktop, mobile web, and mobile app traffic data from July 2015 through last month."
   ]
  },
  {
   "cell_type": "markdown",
   "metadata": {},
   "source": [
    "#### Importing the libraries required for data collection, preprocessing and visualization"
   ]
  },
  {
   "cell_type": "code",
   "execution_count": 1,
   "metadata": {},
   "outputs": [],
   "source": [
    "import numpy as np\n",
    "import pandas as pd\n",
    "import matplotlib.pyplot as plt\n",
    "import matplotlib.ticker as ticker\n",
    "%matplotlib inline\n",
    "\n",
    "import json\n",
    "import requests\n",
    "import datetime as dt"
   ]
  },
  {
   "cell_type": "code",
   "execution_count": 2,
   "metadata": {},
   "outputs": [
    {
     "data": {
      "text/plain": [
       "'1.1.2'"
      ]
     },
     "execution_count": 2,
     "metadata": {},
     "output_type": "execute_result"
    }
   ],
   "source": [
    "pd.__version__"
   ]
  },
  {
   "cell_type": "markdown",
   "metadata": {},
   "source": [
    "#### Assigning the endpoint URLs"
   ]
  },
  {
   "cell_type": "code",
   "execution_count": 3,
   "metadata": {},
   "outputs": [],
   "source": [
    "pagecounts = 'https://wikimedia.org/api/rest_v1/metrics/legacy/pagecounts/aggregate/{project}/{access-site}/{granularity}/{start}/{end}'\n",
    "\n",
    "pageviews = 'https://wikimedia.org/api/rest_v1/metrics/pageviews/aggregate/{project}/{access}/{agent}/{granularity}/{start}/{end}'"
   ]
  },
  {
   "cell_type": "markdown",
   "metadata": {},
   "source": [
    "#### Creating dictionaries of required parameters to be passed in the endpoints for the two APIs"
   ]
  },
  {
   "cell_type": "code",
   "execution_count": 4,
   "metadata": {},
   "outputs": [],
   "source": [
    "# parameters for getting aggregated legacy view data - desktop-site\n",
    "params_pagecounts_desktop = {\"project\" : \"en.wikipedia.org\",\n",
    "                 \"access-site\" : \"desktop-site\",\n",
    "                 \"granularity\" : \"monthly\",\n",
    "                 \"start\" : \"2007120100\",\n",
    "                # for end use 1st day of month following final month of data\n",
    "                 \"end\" : \"2020090100\"\n",
    "                    }\n",
    "\n",
    "# parameters for getting aggregated legacy view data - mobile-site\n",
    "params_pagecounts_mobile = {\"project\" : \"en.wikipedia.org\",\n",
    "                 \"access-site\" : \"mobile-site\",\n",
    "                 \"granularity\" : \"monthly\",\n",
    "                 \"start\" : \"2007120100\",\n",
    "                # for end use 1st day of month following final month of data\n",
    "                 \"end\" : \"2020090100\"\n",
    "                    }\n",
    "\n",
    "# parameters for getting aggregated current standard pageview data - desktop\n",
    "params_pageviews_desktop = {\"project\" : \"en.wikipedia.org\",\n",
    "                    \"access\" : \"desktop\",\n",
    "                    \"agent\" : \"user\",\n",
    "                    \"granularity\" : \"monthly\",\n",
    "                    \"start\" : \"2007120100\",\n",
    "                    # for end use 1st day of month following final month of data\n",
    "                    \"end\" : '2020090100'\n",
    "                        }\n",
    "\n",
    "# parameters for getting aggregated current standard pageview data - mobile-web\n",
    "params_pageviews_mobile_web = {\"project\" : \"en.wikipedia.org\",\n",
    "                    \"access\" : \"mobile-web\",\n",
    "                    \"agent\" : \"user\",\n",
    "                    \"granularity\" : \"monthly\",\n",
    "                    \"start\" : \"2007120100\",\n",
    "                    # for end use 1st day of month following final month of data\n",
    "                    \"end\" : '2020090100'\n",
    "                        }\n",
    "\n",
    "# parameters for getting aggregated current standard pageview data - mobile-app\n",
    "params_pageviews_mobile_app = {\"project\" : \"en.wikipedia.org\",\n",
    "                    \"access\" : \"mobile-app\",\n",
    "                    \"agent\" : \"user\",\n",
    "                    \"granularity\" : \"monthly\",\n",
    "                    \"start\" : \"2007120100\",\n",
    "                    # for end use 1st day of month following final month of data\n",
    "                    \"end\" : '2020090100'\n",
    "                        }"
   ]
  },
  {
   "cell_type": "markdown",
   "metadata": {},
   "source": [
    "#### Defining a function that requests the API calls and save the output in a json file\n",
    "\n",
    "The below function does the API call with the parameters and returns a dictionary of output as well as a json file"
   ]
  },
  {
   "cell_type": "code",
   "execution_count": 5,
   "metadata": {},
   "outputs": [],
   "source": [
    "def create_json(endpoint,parameters,apiname,accesstype,firstmonth,lastmonth):\n",
    "    \"\"\"\n",
    "    Function that passes the required parameters into the endpoint URLs for the two APIs and\n",
    "    a) saves the output of the request in a json file and \n",
    "    b) returns the output of the request as a dictionary\n",
    "    \n",
    "    Input:\n",
    "    endpoint   - pagecounts or pageviews\n",
    "    parameters - the dictionary of parameters for each API and access type\n",
    "    apiname    - One of 'pageviews' or 'pagecounts'\n",
    "    accesstype - One of 'desktop-site', 'mobile-site', 'desktop', 'mobile-app', 'mobile-web'\n",
    "    firstmonth - First month of the analysis (Dec 2007)\n",
    "    lastmonth  - last month of the analysis (Aug 2020)\n",
    "    \n",
    "    Output:\n",
    "    * json file saved as apiname_accesstype_firstmonth-lastmonth.json\n",
    "    * a dictionary output\n",
    "    \n",
    "    \"\"\"\n",
    "    call = requests.get(endpoint.format(**parameters), headers=headers)\n",
    "    response = call.json()\n",
    "    with open(f'{apiname}_{accesstype}_{firstmonth}-{lastmonth}.json', 'w') as file:\n",
    "        json.dump(response, file, indent=4)\n",
    "    return response"
   ]
  },
  {
   "cell_type": "markdown",
   "metadata": {},
   "source": [
    "#### Creating the headers for the API calls"
   ]
  },
  {
   "cell_type": "code",
   "execution_count": 6,
   "metadata": {},
   "outputs": [],
   "source": [
    "headers = {\n",
    "    'User-Agent': 'https://github.com/Pradeepprabhakar92',\n",
    "    'From': 'prdp1992@uw.edu'\n",
    "}"
   ]
  },
  {
   "cell_type": "markdown",
   "metadata": {},
   "source": [
    "#### Calling the above function for each API and access type"
   ]
  },
  {
   "cell_type": "code",
   "execution_count": 7,
   "metadata": {},
   "outputs": [],
   "source": [
    "monthly_pagecounts_desktop    = create_json(pagecounts, params_pagecounts_desktop,'pagecounts','desktop-site','200712','202008')\n",
    "monthly_pagecounts_mobile     = create_json(pagecounts, params_pagecounts_mobile,'pagecounts','mobile-site','200712','202008')\n",
    "monthly_pageviews_desktop     = create_json(pageviews, params_pageviews_desktop,'pageviews','desktop','200712','202008')\n",
    "monthly_pageviews_mobile_web  = create_json(pageviews, params_pageviews_mobile_web,'pageviews','mobile-web','200712','202008')\n",
    "monthly_pageviews_mobile_app  = create_json(pageviews, params_pageviews_mobile_app,'pageviews','mobile-app','200712','202008')"
   ]
  },
  {
   "cell_type": "markdown",
   "metadata": {},
   "source": [
    "The above function calls will create 5 json files in the folder, 2 files corresponding to the desktop site and mobile site for Legacy Pagecounts API and 3 files corresponding to desktop, mobile-web and mobile-app for Pageviews API"
   ]
  },
  {
   "cell_type": "markdown",
   "metadata": {},
   "source": [
    "<h2> Step 2: Processing the data </h2>\n",
    "\n",
    "Given the API outputs stored as dictionaries, we perform the following in step 2\n",
    "* For data collected from the Pageviews API, combine the monthly values for mobile-app and mobile-web to create a total mobile traffic count for each month.\n",
    "* For all data, separate the value of timestamp into four-digit year (YYYY) and two-digit month (MM) and discard values for day and hour (DDHH)."
   ]
  },
  {
   "cell_type": "markdown",
   "metadata": {},
   "source": [
    "#### Loading the json files as data frames using pandas"
   ]
  },
  {
   "cell_type": "code",
   "execution_count": 9,
   "metadata": {},
   "outputs": [],
   "source": [
    "monthly_pagecounts_desktop_pd = pd.json_normalize(monthly_pagecounts_desktop['items'])\n",
    "monthly_pagecounts_mobile_pd = pd.json_normalize(monthly_pagecounts_mobile['items'])\n",
    "monthly_pageviews_desktop_pd = pd.json_normalize(monthly_pageviews_desktop['items'])\n",
    "monthly_pageviews_mobile_web_pd = pd.json_normalize(monthly_pageviews_mobile_web['items'])\n",
    "monthly_pageviews_mobile_app_pd = pd.json_normalize(monthly_pageviews_mobile_app['items'])"
   ]
  },
  {
   "cell_type": "markdown",
   "metadata": {},
   "source": [
    "#### Summming up the mobile web and mobile app page views and concatenating pageviews and pagecounts into a single dataframe"
   ]
  },
  {
   "cell_type": "code",
   "execution_count": 10,
   "metadata": {},
   "outputs": [],
   "source": [
    "monthly_pageviews_mobile_pd = pd.concat([monthly_pageviews_mobile_web_pd,monthly_pageviews_mobile_app_pd],ignore_index=True) \\\n",
    "                                .groupby(['project','agent','granularity','timestamp']) \\\n",
    "                                .agg({'views': sum}).reset_index()\n",
    "\n",
    "monthly_pageviews_mobile_pd['access'] = 'mobile'\n",
    "\n",
    "monthly_pageviews_pd = pd.concat([monthly_pageviews_desktop_pd,monthly_pageviews_mobile_pd],ignore_index=True) \\\n",
    "                         .rename(columns={'access':'access-site','views':'count'}) \\\n",
    "                         .drop(columns='agent')\n",
    "\n",
    "monthly_overall_pd = pd.concat([monthly_pagecounts_desktop_pd,monthly_pagecounts_mobile_pd,monthly_pageviews_pd],\n",
    "                               ignore_index=True).drop(columns=['project','granularity'])"
   ]
  },
  {
   "cell_type": "markdown",
   "metadata": {},
   "source": [
    "#### Pivoting the dataframe based on access type with missing value imputation and renaming the columns"
   ]
  },
  {
   "cell_type": "code",
   "execution_count": 27,
   "metadata": {},
   "outputs": [],
   "source": [
    "monthly_overall_pivot = monthly_overall_pd.pivot(index='timestamp',columns='access-site',values='count').fillna(0). \\\n",
    "                        reset_index().rename_axis(None, axis=1)\n",
    "\n",
    "monthly_overall_pivot.iloc[:,1:] = monthly_overall_pivot.iloc[:,1:].astype(np.int64)\n",
    "\n",
    "monthly_overall_pivot = monthly_overall_pivot.rename(columns={'desktop-site':'pagecount_desktop_views',\n",
    "                                                              'mobile-site':'pagecount_mobile_views',\n",
    "                                                              'desktop':'pageview_desktop_views',\n",
    "                                                              'mobile':'pageview_mobile_views'})"
   ]
  },
  {
   "cell_type": "markdown",
   "metadata": {},
   "source": [
    "#### Summing up the desktop views and mobile views to create total page views for both the APIs"
   ]
  },
  {
   "cell_type": "code",
   "execution_count": 28,
   "metadata": {},
   "outputs": [],
   "source": [
    "monthly_overall_pivot['pagecount_all_views'] = monthly_overall_pivot.pagecount_desktop_views + \\\n",
    "                                                monthly_overall_pivot.pagecount_mobile_views\n",
    "monthly_overall_pivot['pageview_all_views'] = monthly_overall_pivot.pageview_desktop_views + \\\n",
    "                                                monthly_overall_pivot.pageview_mobile_views"
   ]
  },
  {
   "cell_type": "markdown",
   "metadata": {},
   "source": [
    "#### Creating year (YYYY) and month(MM) columns from timestamp"
   ]
  },
  {
   "cell_type": "code",
   "execution_count": 29,
   "metadata": {},
   "outputs": [],
   "source": [
    "monthly_overall_pivot['year'] = monthly_overall_pivot.timestamp.str[:4]\n",
    "monthly_overall_pivot['month'] = monthly_overall_pivot.timestamp.str[4:6]"
   ]
  },
  {
   "cell_type": "markdown",
   "metadata": {},
   "source": [
    "#### Selecting only the required columns and checking the head of the final dataframe"
   ]
  },
  {
   "cell_type": "code",
   "execution_count": 30,
   "metadata": {},
   "outputs": [
    {
     "data": {
      "text/html": [
       "<div>\n",
       "<style scoped>\n",
       "    .dataframe tbody tr th:only-of-type {\n",
       "        vertical-align: middle;\n",
       "    }\n",
       "\n",
       "    .dataframe tbody tr th {\n",
       "        vertical-align: top;\n",
       "    }\n",
       "\n",
       "    .dataframe thead th {\n",
       "        text-align: right;\n",
       "    }\n",
       "</style>\n",
       "<table border=\"1\" class=\"dataframe\">\n",
       "  <thead>\n",
       "    <tr style=\"text-align: right;\">\n",
       "      <th></th>\n",
       "      <th>year</th>\n",
       "      <th>month</th>\n",
       "      <th>pagecount_all_views</th>\n",
       "      <th>pagecount_desktop_views</th>\n",
       "      <th>pagecount_mobile_views</th>\n",
       "      <th>pageview_all_views</th>\n",
       "      <th>pageview_desktop_views</th>\n",
       "      <th>pageview_mobile_views</th>\n",
       "    </tr>\n",
       "  </thead>\n",
       "  <tbody>\n",
       "    <tr>\n",
       "      <th>0</th>\n",
       "      <td>2007</td>\n",
       "      <td>12</td>\n",
       "      <td>2998331524</td>\n",
       "      <td>2998331524</td>\n",
       "      <td>0</td>\n",
       "      <td>0</td>\n",
       "      <td>0</td>\n",
       "      <td>0</td>\n",
       "    </tr>\n",
       "    <tr>\n",
       "      <th>1</th>\n",
       "      <td>2008</td>\n",
       "      <td>01</td>\n",
       "      <td>4930902570</td>\n",
       "      <td>4930902570</td>\n",
       "      <td>0</td>\n",
       "      <td>0</td>\n",
       "      <td>0</td>\n",
       "      <td>0</td>\n",
       "    </tr>\n",
       "    <tr>\n",
       "      <th>2</th>\n",
       "      <td>2008</td>\n",
       "      <td>02</td>\n",
       "      <td>4818393763</td>\n",
       "      <td>4818393763</td>\n",
       "      <td>0</td>\n",
       "      <td>0</td>\n",
       "      <td>0</td>\n",
       "      <td>0</td>\n",
       "    </tr>\n",
       "    <tr>\n",
       "      <th>3</th>\n",
       "      <td>2008</td>\n",
       "      <td>03</td>\n",
       "      <td>4955405809</td>\n",
       "      <td>4955405809</td>\n",
       "      <td>0</td>\n",
       "      <td>0</td>\n",
       "      <td>0</td>\n",
       "      <td>0</td>\n",
       "    </tr>\n",
       "    <tr>\n",
       "      <th>4</th>\n",
       "      <td>2008</td>\n",
       "      <td>04</td>\n",
       "      <td>5159162183</td>\n",
       "      <td>5159162183</td>\n",
       "      <td>0</td>\n",
       "      <td>0</td>\n",
       "      <td>0</td>\n",
       "      <td>0</td>\n",
       "    </tr>\n",
       "  </tbody>\n",
       "</table>\n",
       "</div>"
      ],
      "text/plain": [
       "   year month  pagecount_all_views  pagecount_desktop_views  \\\n",
       "0  2007    12           2998331524               2998331524   \n",
       "1  2008    01           4930902570               4930902570   \n",
       "2  2008    02           4818393763               4818393763   \n",
       "3  2008    03           4955405809               4955405809   \n",
       "4  2008    04           5159162183               5159162183   \n",
       "\n",
       "   pagecount_mobile_views  pageview_all_views  pageview_desktop_views  \\\n",
       "0                       0                   0                       0   \n",
       "1                       0                   0                       0   \n",
       "2                       0                   0                       0   \n",
       "3                       0                   0                       0   \n",
       "4                       0                   0                       0   \n",
       "\n",
       "   pageview_mobile_views  \n",
       "0                      0  \n",
       "1                      0  \n",
       "2                      0  \n",
       "3                      0  \n",
       "4                      0  "
      ]
     },
     "execution_count": 30,
     "metadata": {},
     "output_type": "execute_result"
    }
   ],
   "source": [
    "en_wikipedia_traffic = monthly_overall_pivot[['year',\n",
    "                                             'month',\n",
    "                                             'pagecount_all_views',\n",
    "                                             'pagecount_desktop_views',\n",
    "                                             'pagecount_mobile_views',\n",
    "                                             'pageview_all_views',\n",
    "                                             'pageview_desktop_views',\n",
    "                                             'pageview_mobile_views']]\n",
    "\n",
    "en_wikipedia_traffic.head()"
   ]
  },
  {
   "cell_type": "markdown",
   "metadata": {},
   "source": [
    "#### Saving the final processed data frame as a CSV"
   ]
  },
  {
   "cell_type": "code",
   "execution_count": 31,
   "metadata": {},
   "outputs": [],
   "source": [
    "en_wikipedia_traffic.to_csv('en-wikipedia_traffic_200712-202008.csv',index=False)"
   ]
  },
  {
   "cell_type": "markdown",
   "metadata": {},
   "source": [
    "<h2> Step 3: Analyze the data </h2>\n",
    "\n",
    "In this step, we will create a visualization that will track three traffic metrics: mobile traffic, desktop traffic, and all traffic (mobile + desktop) using matplotlib."
   ]
  },
  {
   "cell_type": "markdown",
   "metadata": {},
   "source": [
    "#### Concatenating year and month columns into a datetime datatype for visualization"
   ]
  },
  {
   "cell_type": "code",
   "execution_count": 32,
   "metadata": {},
   "outputs": [],
   "source": [
    "en_wikipedia_traffic['date'] = en_wikipedia_traffic['year'].map(str)+ '-' +en_wikipedia_traffic['month'].map(str)\n",
    "en_wikipedia_traffic['date'] = pd.to_datetime(en_wikipedia_traffic['date'], format='%Y-%m')"
   ]
  },
  {
   "cell_type": "markdown",
   "metadata": {},
   "source": [
    "#### Using matplotlib to create a time series line chart for the three traffic metrics -desktop, mobile and all for the two APIs"
   ]
  },
  {
   "cell_type": "code",
   "execution_count": 35,
   "metadata": {},
   "outputs": [
    {
     "data": {
      "image/png": "[encoded data removed]",
      "text/plain": [
       "<Figure size 1080x432 with 1 Axes>"
      ]
     },
     "metadata": {
      "needs_background": "light"
     },
     "output_type": "display_data"
    }
   ],
   "source": [
    "import matplotlib.dates as mdates\n",
    "\n",
    "years = mdates.YearLocator()   # a ticker for the first day of every year\n",
    "months = mdates.MonthLocator()  #a ticker for the first day of every month\n",
    "years_fmt = mdates.DateFormatter('%Y')\n",
    "\n",
    "fig, ax = plt.subplots(figsize=(15,6))\n",
    "data = en_wikipedia_traffic\n",
    "ax.plot( 'date', 'pagecount_desktop_views', data=data, color='green', linewidth=2, linestyle='dashed',label='main site')\n",
    "ax.plot( 'date', 'pagecount_mobile_views', data=data, color='blue', linewidth=2, linestyle='dashed',label='mobile site')\n",
    "ax.plot( 'date', 'pagecount_all_views', data=data, color='black', linewidth=2, linestyle='dashed',label='total')\n",
    "ax.plot( 'date', 'pageview_desktop_views', data=data, color='green', linewidth=2,alpha=0.9,label='')\n",
    "ax.plot( 'date', 'pageview_mobile_views', data=data, color='blue', linewidth=2,alpha=0.9,label='')\n",
    "ax.plot( 'date', 'pageview_all_views', data=data, color='black', linewidth=2,alpha=0.9,label='')\n",
    "\n",
    "plt.title(\"Page views on English wikipedia (x 1,000,000)\",fontsize=14)\n",
    "\n",
    "ax.xaxis.set_major_locator(years)\n",
    "ax.xaxis.set_major_formatter(years_fmt)\n",
    "ax.xaxis.set_minor_locator(months)\n",
    "\n",
    "\n",
    "scale_y = 1e6\n",
    "ticks_y = ticker.FuncFormatter(lambda x, pos: '{0:g}'.format(x/scale_y))\n",
    "ax.yaxis.set_major_formatter(ticks_y)\n",
    "# ax.set_ylim(0, 12000000000)\n",
    "\n",
    "plt.xticks(fontsize=12)\n",
    "plt.yticks(fontsize=12)\n",
    "\n",
    "caption=\"May 2015: A new pageview definition took effect, which eliminated crawler traffic. Solid lines mark new definition\"\n",
    "plt.figtext(0.5, 0.01, caption, wrap=True, horizontalalignment='center', fontsize=14,color='red')\n",
    "ax.legend(fontsize=12)\n",
    "plt.savefig(\"en_wikipedia_traffic_visualization_200712-202008.png\",dpi=400)\n",
    "plt.show();"
   ]
  },
  {
   "cell_type": "markdown",
   "metadata": {},
   "source": [
    "### Observations\n",
    "\n",
    "* As observed, the traffic for mobile site only started from October 2014 and has been on a steady rise since then\n",
    "* The desktop traffic observed a steady rise in the traffic in the early years (between 2008 and 2014) and has been on a decline since then, in part due to the increased accessibility to mobile internet\n",
    "* October 2013 observed the highest traffic till date (August 2020) with ~10.7 billion views\n",
    "* In 2018, the mobile traffic overtook the dektop traffic for the first time"
   ]
  },
  {
   "cell_type": "code",
   "execution_count": null,
   "metadata": {},
   "outputs": [],
   "source": []
  }
 ],
 "metadata": {
  "kernelspec": {
   "display_name": "Python 3",
   "language": "python",
   "name": "python3"
  },
  "language_info": {
   "codemirror_mode": {
    "name": "ipython",
    "version": 3
   },
   "file_extension": ".py",
   "mimetype": "text/x-python",
   "name": "python",
   "nbconvert_exporter": "python",
   "pygments_lexer": "ipython3",
   "version": "3.7.4"
  }
 },
 "nbformat": 4,
 "nbformat_minor": 4
}
