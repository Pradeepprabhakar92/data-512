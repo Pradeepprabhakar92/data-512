{
 "cells": [
  {
   "cell_type": "markdown",
   "metadata": {},
   "source": [
    "<h1> DATA 512 Human-Centered Data Science \n",
    "<h2> A2 : Bias in data"
   ]
  },
  {
   "cell_type": "markdown",
   "metadata": {},
   "source": [
    "The goal of this assignment is to identify what, if any, sources of bias that may exist in a corpus of human-annotated data, and to develop testable hypotheses about how these biases might impact the behavior of machine learning models trained on the data, when those models are used for research purposes or to power data-driven applications. \n",
    "\n",
    "The corpus that we will use is the Wikipedia Talk corpus that consists of three datasets. Each dataset contains thousands of online discussion posts made by Wikipedia editors who were discussing how to write and edit Wikipedia articles. Crowdworkers labelled these posts for three kinds of hostile speech: **toxicity**, **aggression**, and **personal attacks**. Many posts in each dataset were labelled by multiple crowdworkers for each type of hostile speech, to improve accuracy.\n",
    "\n",
    "For this assignment, we will performing a set of analysis on the following sets:\n",
    "* Aggression\n",
    "* Hostility"
   ]
  },
  {
   "cell_type": "markdown",
   "metadata": {},
   "source": [
    "### Importing the packages required for data collection, preprocessing and visualization\n",
    "\n",
    "Importing the standard packages such as pandas, numpy and matplotlib as well as urllib"
   ]
  },
  {
   "cell_type": "code",
   "execution_count": 97,
   "metadata": {},
   "outputs": [],
   "source": [
    "import pandas as pd\n",
    "import numpy as np\n",
    "import matplotlib.pyplot as plt\n",
    "import seaborn as sns\n",
    "import urllib\n",
    "\n",
    "from IPython.core.interactiveshell import InteractiveShell\n",
    "InteractiveShell.ast_node_interactivity = \"all\"\n",
    "\n",
    "%matplotlib inline"
   ]
  },
  {
   "cell_type": "markdown",
   "metadata": {},
   "source": [
    "### Assigning the endpoint URLs for the set of *aggression* and *toxicity* files\n",
    "\n",
    "Each set has three files, namely annotated comments, annotations and worker demographics"
   ]
  },
  {
   "cell_type": "code",
   "execution_count": 98,
   "metadata": {},
   "outputs": [],
   "source": [
    "aggression_comments_url = 'https://ndownloader.figshare.com/files/7038038' \n",
    "aggression_annotations_url = 'https://ndownloader.figshare.com/files/7394506' \n",
    "aggression_demographics_url = 'https://ndownloader.figshare.com/files/7640644'\n",
    "\n",
    "toxicity_comments_url = 'https://ndownloader.figshare.com/files/7394539' \n",
    "toxicity_annotations_url = 'https://ndownloader.figshare.com/files/7394542' \n",
    "toxicity_demographics_url = 'https://ndownloader.figshare.com/files/7640581'"
   ]
  },
  {
   "cell_type": "markdown",
   "metadata": {},
   "source": [
    "### Creating a function to download the set of files for aggression and toxicity datasets\n",
    "\n",
    "Given the file links from the figshare downloader site and the filenames, the below function downloads the contents to the repository"
   ]
  },
  {
   "cell_type": "code",
   "execution_count": 99,
   "metadata": {},
   "outputs": [],
   "source": [
    "def download_file(url, fname):\n",
    "    \"\"\"\n",
    "    Input:\n",
    "    url : the download link from figshare with a file number for each dataset\n",
    "    fname: the filename with the .tsv extension (tab seperated)\n",
    "    Ouput:\n",
    "    Downloads the corresponding file from the link\n",
    "    \"\"\"\n",
    "    urllib.request.urlretrieve(url, fname)\n",
    "\n",
    "#Aggression\n",
    "download_file(aggression_comments_url, 'aggression_annotated_comments.tsv')\n",
    "download_file(aggression_annotations_url, 'aggression_annotations.tsv')\n",
    "download_file(aggression_demographics_url, 'aggression_worker_demographics.tsv')\n",
    "\n",
    "#Toxicity\n",
    "download_file(toxicity_comments_url, 'toxicity_annotated_comments.tsv')\n",
    "download_file(toxicity_annotations_url, 'toxicity_annotations.tsv')\n",
    "download_file(toxicity_demographics_url, 'toxicity_worker_demographics.tsv')"
   ]
  },
  {
   "cell_type": "markdown",
   "metadata": {},
   "source": [
    "### Loading each downloaded file as a pandas dataframe"
   ]
  },
  {
   "cell_type": "code",
   "execution_count": 100,
   "metadata": {},
   "outputs": [],
   "source": [
    "aggression_comments = pd.read_csv('aggression_annotated_comments.tsv', sep = '\\t')\n",
    "aggression_annotations = pd.read_csv('aggression_annotations.tsv',  sep = '\\t')\n",
    "aggression_demographics = pd.read_csv('aggression_worker_demographics.tsv',  sep = '\\t')\n",
    "\n",
    "toxicity_comments = pd.read_csv('toxicity_annotated_comments.tsv', sep = '\\t')\n",
    "toxicity_annotations = pd.read_csv('toxicity_annotations.tsv',  sep = '\\t')\n",
    "toxicity_demographics = pd.read_csv('toxicity_worker_demographics.tsv',  sep = '\\t')"
   ]
  },
  {
   "cell_type": "markdown",
   "metadata": {},
   "source": [
    "## Step 1: Select and perform analysis\n",
    "\n",
    "For the assignment, we will be interested in analyzing both aggression and toxicity datasets to answer the following research questions that helps us to understand potential sources of bias, if any\n",
    " \n",
    "1) Is there any unintended bias in the training data with respect to the labelling and distribution of identity terms in the comments? \n",
    "* The idea behind this research question is the increasing use of toxic comments and hate speeches across social media and online discussion forums that often contain identity terms based on one's race, religion, gender etc. in a negative connotation targeted against someone, making it difficult to use these terms based on their literal meaning and also to improve the societal awareness. A bias here might result in machine learning models flagging comments with these identity words as a hostile speech which might have adverse implications.\n",
    "\n",
    "2) How consistent are the labelling behaviours between annotation workers across gender, age and education? \n",
    "* The idea behind this question is to understand the distribution of workers based on their gender, age, education etc and how they are related to thier labelling behavior of hostile comments. A skew in the distribution towards one particular profile might result in a biased ML model that is trained."
   ]
  },
  {
   "cell_type": "markdown",
   "metadata": {},
   "source": [
    "## 1a. Functions to process, analyze and visualize the two sets of hostile data\n",
    "\n",
    "### Create master data and do train, dev and test splits\n",
    "\n",
    "The function merges the annotations, comments and demographics data to create a master dataset and splits the master data into train, dev and test dataframes"
   ]
  },
  {
   "cell_type": "code",
   "execution_count": 101,
   "metadata": {},
   "outputs": [],
   "source": [
    "def data_processing(df_comments,df_annotations,df_demographics):\n",
    "    \"\"\"\n",
    "    Input:\n",
    "    df_comments    : dataset that has the comments along with their corresponding revision id and the kind of split\n",
    "    df_annotations : dataset that has the set of worker IDs and their corresponding aggression/toxicity output label \n",
    "                     and score for each revision ID\n",
    "    df_demographics: dataset that has the demographic profile of each worker ID including gender, age group and education\n",
    "    \n",
    "    Output:\n",
    "    Merges the above three data, replaces system commands such as newline and tab tokens and splits the data\n",
    "    \"\"\"\n",
    "    df_base = df_comments.merge(df_annotations,on='rev_id').merge(df_demographics,on='worker_id',how='left')\n",
    "    \n",
    "    df_base_trn  = df_base[df_base.split=='train']\n",
    "    df_base_dev  = df_base[df_base.split=='dev']\n",
    "    df_base_test = df_base[df_base.split=='test']\n",
    "    \n",
    "    return df_base_trn, df_base_dev, df_base_test"
   ]
  },
  {
   "cell_type": "markdown",
   "metadata": {},
   "source": [
    "### Calculate the mean ouput rating (0 to 1) per comment"
   ]
  },
  {
   "cell_type": "markdown",
   "metadata": {},
   "source": [
    "Any comment that has a mean aggression/toxicity rating of more than 0.5 (based on 10 workers) will be labelled as aggressive/toxic through this function and will serve as a unit of analysis for the rest of this assignment"
   ]
  },
  {
   "cell_type": "code",
   "execution_count": 102,
   "metadata": {},
   "outputs": [],
   "source": [
    "def mean_rating_per_comment_trn (df_base_trn,rating_flag):\n",
    "    \"\"\"\n",
    "    Input:\n",
    "    df_base_trn : Master dataset that has comments, annotations, output labels and the demographic profile of workers\n",
    "    rating_flag (str) : Output label ('Aggression' or 'Toxicity')\n",
    "    \n",
    "    Output:\n",
    "    Creates mean output rating per comment for the overall dataset and a second dataset with only comments with mean rating >0.5\n",
    "    \"\"\"\n",
    "    df_trn_ovrl_smry = df_base_trn.groupby(['rev_id','comment','split'],as_index=False).agg({f'{rating_flag}':'mean'})\n",
    "    df_trn_flag_smry = df_trn_ovrl_smry[df_trn_ovrl_smry[f'{rating_flag}']>0.5]\n",
    "\n",
    "    return df_trn_ovrl_smry, df_trn_flag_smry"
   ]
  },
  {
   "cell_type": "markdown",
   "metadata": {},
   "source": [
    "### Calculate the frequency and % appearance of commonly used identity terms\n",
    "\n",
    "The following function calculates the labelling distribution of commonly used identity terms based on gender, sexual orientation, religion and race. The following identity terms are considered\n",
    "* gay\n",
    "* lesbian\n",
    "* homosexual\n",
    "* heterosexual\n",
    "* transgender\n",
    "* queer\n",
    "* muslim\n",
    "* islam\n",
    "* atheist\n",
    "* jew\n",
    "* black\n",
    "* white\n",
    "\n",
    "It creates the following metrics\n",
    "* term_ratio_hostile_flag : % of a particular identity term among all terms found in comments labelled hostile\n",
    "* term_ratio_overall      : % of a particular identity term among all terms found in comments in the entire training data\n",
    "* term_freq_hostile_flag  : Number of occurences of a particular identity term in comments labelled hostile\n",
    "* term_freq_overall       : Number of occurenes of a particular identity term in the entire training data\n",
    "* term_hostile_flag_ratio : % of comments with a particular identity term that are labelled hostile"
   ]
  },
  {
   "cell_type": "code",
   "execution_count": 103,
   "metadata": {},
   "outputs": [],
   "source": [
    "def identity_term_ratios(df_trn,df_flg_trn,hostile_flag):\n",
    "    \"\"\"\n",
    "    Input:\n",
    "    df_trn       : Training dataset that has comments, annotations, output labels and the demographic profile of workers\n",
    "    hostile_flag (str) : 'Aggressive' or 'toxic'\n",
    "    \n",
    "    Output:\n",
    "    Calculates the following metrics:\n",
    "    term_ratio_hostile_flag : % of a particular identity term among all terms found in comments labelled hostile\n",
    "    term_ratio_overall      : % of a particular identity term among all terms found in comments in the entire training data\n",
    "    term_freq_hostile_flag  : Number of occurences of a particular identity term in comments labelled hostile\n",
    "    term_freq_overall       : Number of occurenes of a particular identity term in the entire training data\n",
    "    term_hostile_flag_ratio : % of comments with a particular identity term that are labelled hostile\n",
    "    \"\"\"\n",
    "    df = []\n",
    "    identity_terms = ['gay','lesbian','homosexual','heterosexual','transgender','queer',\n",
    "                      'muslim','islam','atheist','jew','black','white']\n",
    "    \n",
    "    for term in identity_terms:\n",
    "        term_freq_flagged = df_flg_trn[(df_flg_trn.comment.str.contains(term,case=False))].shape[0]\n",
    "\n",
    "        term_freq_overall = df_trn[df_trn.comment.str.contains(term,case=False)].shape[0]\n",
    "\n",
    "        term_ratio_flagged = df_flg_trn[(df_flg_trn.comment.str.contains(term,case=False))].shape[0] / df_flg_trn.shape[0]\n",
    "\n",
    "        term_ratio_overall = df_trn[(df_trn.comment.str.contains(term,case=False))].shape[0] / df_trn.shape[0]\n",
    "\n",
    "        df.append({'identity' : term,\n",
    "                 f'term_ratio_{hostile_flag}' : round(term_ratio_flagged*100,2),\n",
    "                 'term_ratio_overall' : round(term_ratio_overall*100,2),\n",
    "                 f'term_freq_{hostile_flag}' : term_freq_flagged,\n",
    "                 'term_freq_overall' : term_freq_overall,\n",
    "                 f'term_{hostile_flag}_ratio' : round((term_freq_flagged/term_freq_overall)*100,2)\n",
    "                 })\n",
    "        out = pd.DataFrame(df)\n",
    "        out.to_csv(f'identity_term_metrics_{hostile_flag}.csv',index=False)\n",
    "\n",
    "    return out"
   ]
  },
  {
   "cell_type": "markdown",
   "metadata": {},
   "source": [
    "### Plot the % of comments with identity terms that are labelled hostile\n",
    "\n",
    "Given identity terms and the % comments with these terms labelled hostile (aggressive or toxic), the function plots the % values and also adds the overall % of comments that are labelled hostile as a benchmark for comparison"
   ]
  },
  {
   "cell_type": "code",
   "execution_count": 104,
   "metadata": {},
   "outputs": [],
   "source": [
    "def identity_terms_pct_hostile_plot(df_identity_term_smry,hostile_flag,df_mean_all_comments,df_mean_hostile_comments):\n",
    "    \"\"\"\n",
    "    Input:\n",
    "    df_identity_term_smry   : summary for each identity term (frequency and %)\n",
    "    hostile_flag  (str)     : 'aggressive' or 'toxic'\n",
    "    df_mean_all_comments    : 'mean hostile rating for each comment in the training data'\n",
    "    df_mean_hostile_comments: 'mean hostile rating for each comment labelled hostile (>0.5)'\n",
    "    \n",
    "    Output:\n",
    "    For each identity term, plots the % of comments with that term that are labelled hostile (mean rating >0.5) \n",
    "    and also the overall mean hostile rating\n",
    "    \"\"\"\n",
    "    mean_hostile_pct = round((df_mean_hostile_comments.shape[0]/df_mean_all_comments.shape[0])*100,2)\n",
    "    \n",
    "    data = df_identity_term_smry.copy().sort_values([f'term_{hostile_flag}_ratio'],ascending=False,ignore_index=True)\n",
    "    data.plot(x='identity',y=f'term_{hostile_flag}_ratio',kind='bar',figsize=(15,6),fontsize=12)\n",
    "    plt.ylabel(f\"% of comments labelled as {hostile_flag}\",fontsize=12)\n",
    "    plt.xlabel(\"Identity group\",fontsize=12)\n",
    "    plt.axhline(y=mean_hostile_pct,linewidth=1, linestyle='--',color='k')\n",
    "    plt.text(8.5,mean_hostile_pct+1,f\"% of all comments \\n labelled {hostile_flag}({mean_hostile_pct}%)\",fontsize=12)\n",
    "    plt.title(f\"% of comments with identity terms that are labelled as {hostile_flag}\",fontsize=14)\n",
    "    plt.legend('')\n",
    "    plt.savefig(f'identity_pct_hostile_plot_{hostile_flag}.png',dpi=400);"
   ]
  },
  {
   "cell_type": "markdown",
   "metadata": {},
   "source": [
    "### Plot the % appearance of identity terms in hostile comments vs all comments"
   ]
  },
  {
   "cell_type": "code",
   "execution_count": 105,
   "metadata": {},
   "outputs": [],
   "source": [
    "def identity_terms_hostile_vs_all_plot(df_identity_term_smry,hostile_flag):\n",
    "    \"\"\"\n",
    "    Input:\n",
    "    df_identity_term_smry : summary for each identity term (frequency and %)\n",
    "    hostile_flag (str)    : 'aggressive' or 'toxic'\n",
    "    \"\"\"\n",
    "    data = df_identity_term_smry.copy()\n",
    "    data.plot(x='identity', y=[f'term_ratio_{hostile_flag}', 'term_ratio_overall'], kind='bar',figsize=(15,6),fontsize=12)\n",
    "    plt.ylabel('% of comments',fontsize=12)\n",
    "    plt.xlabel(\"Identity term\",fontsize=12)\n",
    "    plt.title(f'% appearence in {hostile_flag} comments vs. % appearance in all comments',fontsize=14)\n",
    "    plt.legend([f'% appearance in {hostile_flag} comments','% appearance in all comments'],fontsize=12);\n",
    "    plt.savefig(f'identity_hostile_vs_all_plot_{hostile_flag}.png',dpi=400);"
   ]
  },
  {
   "cell_type": "markdown",
   "metadata": {},
   "source": [
    "### Calculate the average hostile output rating for each annotation worker"
   ]
  },
  {
   "cell_type": "code",
   "execution_count": 106,
   "metadata": {},
   "outputs": [],
   "source": [
    "def worker_avg_hostility_rating(df_base_trn,df_demographics,rating_flag):\n",
    "    \"\"\"\n",
    "    Input:\n",
    "    df_base_trn : training dataset that has comments, annotations, output labels and the demographic profile of workers\n",
    "    df_demographics : demographic information of each worker\n",
    "    rating_flag (str) :'aggression' or 'toxicity'\n",
    "    \n",
    "    Output:\n",
    "    Calculates the average hostility rating for each worker and adds this info to the demographic dataset\n",
    "    \"\"\"\n",
    "    df_base_trn_fltr = df_base_trn[df_base_trn['gender'] != 'other']\n",
    "    worker_avg_rating = df_base_trn_fltr.groupby('worker_id',as_index=False).agg({f'{rating_flag}':'mean'})\n",
    "    worker_avg_rating = worker_avg_rating.rename(columns={f'{rating_flag}': f'{rating_flag}_mean'})\n",
    "    df_dmgraph_w_avg_rating = df_demographics.merge(worker_avg_rating,on='worker_id')\n",
    "    \n",
    "    return df_dmgraph_w_avg_rating"
   ]
  },
  {
   "cell_type": "markdown",
   "metadata": {},
   "source": [
    "### Get the counts of workers/annotations and mean hostile rating for a demographic profile"
   ]
  },
  {
   "cell_type": "code",
   "execution_count": 107,
   "metadata": {},
   "outputs": [],
   "source": [
    "def summary_by_demography(df_base_trn,attribute,rating_flag):\n",
    "    \"\"\"\n",
    "    Input:\n",
    "    df_base_trn : training dataset that has comments, annotations, output labels and the demographic profile of workers\n",
    "    attribute (str) : 'gender' or 'age_group' or 'education'\n",
    "    rating_flag (str) :'aggression' or 'toxicity'\n",
    "    \n",
    "    Output:\n",
    "    Calculates the count of worker IDs, annotations and mean average rating by gender or age or education\n",
    "    \"\"\"\n",
    "    df_base_trn_fltr = df_base_trn[df_base_trn['gender'] != 'other'] \n",
    "    df_smry_by_attr = df_base_trn_fltr.groupby([f'{attribute}'],as_index=False).agg({'worker_id':'nunique',\n",
    "                                                                                    'rev_id':'count',\n",
    "                                                                                    f'{rating_flag}':'mean'})\n",
    "    df_smry_by_attr = df_smry_by_attr.rename(columns={'worker_id':'worker_id_count','rev_id':'rev_id_count',\n",
    "                                                      f'{rating_flag}':f'{rating_flag}_mean'})\n",
    "\n",
    "    df_smry_by_attr['worker_id_pct']= round((df_smry_by_attr.worker_id_count/df_smry_by_attr.worker_id_count.sum())*100,2)\n",
    "    df_smry_by_attr['rev_id_pct']= round((df_smry_by_attr.rev_id_count/df_smry_by_attr.rev_id_count.sum())*100,2)\n",
    "\n",
    "    return df_smry_by_attr"
   ]
  },
  {
   "cell_type": "markdown",
   "metadata": {},
   "source": [
    "### Plot the % makeup of workers and mean hostile rating by demographic profile"
   ]
  },
  {
   "cell_type": "code",
   "execution_count": 108,
   "metadata": {},
   "outputs": [],
   "source": [
    "def demography_plot(df_smry_by_attr,df_dmgraph_w_avg_rating,rating_flag,attribute):\n",
    "    \"\"\"\n",
    "    Input:\n",
    "    df_smry_by_attr : counts and mean rating for each demographic attribute\n",
    "    df_dmgraph_w_avg_rating : demographic profile of each worker ID along with their mean hostile rating per comment\n",
    "    rating_flag (str) :'aggression' or 'toxicity'\n",
    "    attribute (str) : 'gender' or 'age_group' or 'education'\n",
    "    \n",
    "    Output:\n",
    "    Plots the % distribution of workers and annotations and distribution of average ratings by gender or age or education\n",
    "    \"\"\"\n",
    "    fig, axes = plt.subplots(1, 2,figsize=(15,6))\n",
    "    attribute_summary = df_smry_by_attr.copy()\n",
    "    attribute_summary.plot(x= f'{attribute}', y=['worker_id_pct', 'rev_id_pct'], kind='bar',ax=axes[0])\n",
    "    axes[0].set_title(f'distribution of annotators/annotations by {attribute}',fontsize=14)\n",
    "    axes[0].set_ylabel('% of total',fontsize=12)\n",
    "    axes[0].set_xlabel(f\"{attribute}\",fontsize=12)\n",
    "    axes[0].legend(['Annotation workers','Annotations'],fontsize=12)\n",
    "\n",
    "    sns.boxplot(x=f'{attribute}', y=f'{rating_flag}_mean', data=df_dmgraph_w_avg_rating,ax=axes[1])\n",
    "    axes[1].set_title(f'distribution of {rating_flag} labels by {attribute}',fontsize=14)\n",
    "    axes[1].set_ylabel(f'mean {rating_flag} rating',fontsize=12)\n",
    "    axes[1].set_xlabel(f\"{attribute}\",fontsize=12)\n",
    "    axes[1].legend('')\n",
    "    plt.savefig(f'demographic_plot_{attribute}_{rating_flag}.png',dpi=400);"
   ]
  },
  {
   "cell_type": "markdown",
   "metadata": {},
   "source": [
    "## 1b. Analysis on aggrssion data\n",
    "### Checking the head of comments, annotations and demographics data pertaining to aggression"
   ]
  },
  {
   "cell_type": "code",
   "execution_count": 109,
   "metadata": {},
   "outputs": [
    {
     "data": {
      "text/html": [
       "<div>\n",
       "<style scoped>\n",
       "    .dataframe tbody tr th:only-of-type {\n",
       "        vertical-align: middle;\n",
       "    }\n",
       "\n",
       "    .dataframe tbody tr th {\n",
       "        vertical-align: top;\n",
       "    }\n",
       "\n",
       "    .dataframe thead th {\n",
       "        text-align: right;\n",
       "    }\n",
       "</style>\n",
       "<table border=\"1\" class=\"dataframe\">\n",
       "  <thead>\n",
       "    <tr style=\"text-align: right;\">\n",
       "      <th></th>\n",
       "      <th>rev_id</th>\n",
       "      <th>comment</th>\n",
       "      <th>year</th>\n",
       "      <th>logged_in</th>\n",
       "      <th>ns</th>\n",
       "      <th>sample</th>\n",
       "      <th>split</th>\n",
       "    </tr>\n",
       "  </thead>\n",
       "  <tbody>\n",
       "    <tr>\n",
       "      <th>0</th>\n",
       "      <td>37675</td>\n",
       "      <td>`-NEWLINE_TOKENThis is not ``creative``.  Thos...</td>\n",
       "      <td>2002</td>\n",
       "      <td>True</td>\n",
       "      <td>article</td>\n",
       "      <td>random</td>\n",
       "      <td>train</td>\n",
       "    </tr>\n",
       "    <tr>\n",
       "      <th>1</th>\n",
       "      <td>44816</td>\n",
       "      <td>`NEWLINE_TOKENNEWLINE_TOKEN:: the term ``stand...</td>\n",
       "      <td>2002</td>\n",
       "      <td>True</td>\n",
       "      <td>article</td>\n",
       "      <td>random</td>\n",
       "      <td>train</td>\n",
       "    </tr>\n",
       "    <tr>\n",
       "      <th>2</th>\n",
       "      <td>49851</td>\n",
       "      <td>NEWLINE_TOKENNEWLINE_TOKENTrue or false, the s...</td>\n",
       "      <td>2002</td>\n",
       "      <td>True</td>\n",
       "      <td>article</td>\n",
       "      <td>random</td>\n",
       "      <td>train</td>\n",
       "    </tr>\n",
       "    <tr>\n",
       "      <th>3</th>\n",
       "      <td>89320</td>\n",
       "      <td>Next, maybe you could work on being less cond...</td>\n",
       "      <td>2002</td>\n",
       "      <td>True</td>\n",
       "      <td>article</td>\n",
       "      <td>random</td>\n",
       "      <td>dev</td>\n",
       "    </tr>\n",
       "    <tr>\n",
       "      <th>4</th>\n",
       "      <td>93890</td>\n",
       "      <td>This page will need disambiguation.</td>\n",
       "      <td>2002</td>\n",
       "      <td>True</td>\n",
       "      <td>article</td>\n",
       "      <td>random</td>\n",
       "      <td>train</td>\n",
       "    </tr>\n",
       "  </tbody>\n",
       "</table>\n",
       "</div>"
      ],
      "text/plain": [
       "   rev_id                                            comment  year  logged_in  \\\n",
       "0   37675  `-NEWLINE_TOKENThis is not ``creative``.  Thos...  2002       True   \n",
       "1   44816  `NEWLINE_TOKENNEWLINE_TOKEN:: the term ``stand...  2002       True   \n",
       "2   49851  NEWLINE_TOKENNEWLINE_TOKENTrue or false, the s...  2002       True   \n",
       "3   89320   Next, maybe you could work on being less cond...  2002       True   \n",
       "4   93890               This page will need disambiguation.   2002       True   \n",
       "\n",
       "        ns  sample  split  \n",
       "0  article  random  train  \n",
       "1  article  random  train  \n",
       "2  article  random  train  \n",
       "3  article  random    dev  \n",
       "4  article  random  train  "
      ]
     },
     "execution_count": 109,
     "metadata": {},
     "output_type": "execute_result"
    },
    {
     "data": {
      "text/html": [
       "<div>\n",
       "<style scoped>\n",
       "    .dataframe tbody tr th:only-of-type {\n",
       "        vertical-align: middle;\n",
       "    }\n",
       "\n",
       "    .dataframe tbody tr th {\n",
       "        vertical-align: top;\n",
       "    }\n",
       "\n",
       "    .dataframe thead th {\n",
       "        text-align: right;\n",
       "    }\n",
       "</style>\n",
       "<table border=\"1\" class=\"dataframe\">\n",
       "  <thead>\n",
       "    <tr style=\"text-align: right;\">\n",
       "      <th></th>\n",
       "      <th>rev_id</th>\n",
       "      <th>worker_id</th>\n",
       "      <th>aggression</th>\n",
       "      <th>aggression_score</th>\n",
       "    </tr>\n",
       "  </thead>\n",
       "  <tbody>\n",
       "    <tr>\n",
       "      <th>0</th>\n",
       "      <td>37675</td>\n",
       "      <td>1362</td>\n",
       "      <td>1.0</td>\n",
       "      <td>-1.0</td>\n",
       "    </tr>\n",
       "    <tr>\n",
       "      <th>1</th>\n",
       "      <td>37675</td>\n",
       "      <td>2408</td>\n",
       "      <td>0.0</td>\n",
       "      <td>1.0</td>\n",
       "    </tr>\n",
       "    <tr>\n",
       "      <th>2</th>\n",
       "      <td>37675</td>\n",
       "      <td>1493</td>\n",
       "      <td>0.0</td>\n",
       "      <td>0.0</td>\n",
       "    </tr>\n",
       "    <tr>\n",
       "      <th>3</th>\n",
       "      <td>37675</td>\n",
       "      <td>1439</td>\n",
       "      <td>0.0</td>\n",
       "      <td>0.0</td>\n",
       "    </tr>\n",
       "    <tr>\n",
       "      <th>4</th>\n",
       "      <td>37675</td>\n",
       "      <td>170</td>\n",
       "      <td>0.0</td>\n",
       "      <td>0.0</td>\n",
       "    </tr>\n",
       "  </tbody>\n",
       "</table>\n",
       "</div>"
      ],
      "text/plain": [
       "   rev_id  worker_id  aggression  aggression_score\n",
       "0   37675       1362         1.0              -1.0\n",
       "1   37675       2408         0.0               1.0\n",
       "2   37675       1493         0.0               0.0\n",
       "3   37675       1439         0.0               0.0\n",
       "4   37675        170         0.0               0.0"
      ]
     },
     "execution_count": 109,
     "metadata": {},
     "output_type": "execute_result"
    },
    {
     "data": {
      "text/html": [
       "<div>\n",
       "<style scoped>\n",
       "    .dataframe tbody tr th:only-of-type {\n",
       "        vertical-align: middle;\n",
       "    }\n",
       "\n",
       "    .dataframe tbody tr th {\n",
       "        vertical-align: top;\n",
       "    }\n",
       "\n",
       "    .dataframe thead th {\n",
       "        text-align: right;\n",
       "    }\n",
       "</style>\n",
       "<table border=\"1\" class=\"dataframe\">\n",
       "  <thead>\n",
       "    <tr style=\"text-align: right;\">\n",
       "      <th></th>\n",
       "      <th>worker_id</th>\n",
       "      <th>gender</th>\n",
       "      <th>english_first_language</th>\n",
       "      <th>age_group</th>\n",
       "      <th>education</th>\n",
       "    </tr>\n",
       "  </thead>\n",
       "  <tbody>\n",
       "    <tr>\n",
       "      <th>0</th>\n",
       "      <td>833</td>\n",
       "      <td>female</td>\n",
       "      <td>0</td>\n",
       "      <td>45-60</td>\n",
       "      <td>bachelors</td>\n",
       "    </tr>\n",
       "    <tr>\n",
       "      <th>1</th>\n",
       "      <td>1072</td>\n",
       "      <td>male</td>\n",
       "      <td>0</td>\n",
       "      <td>30-45</td>\n",
       "      <td>bachelors</td>\n",
       "    </tr>\n",
       "    <tr>\n",
       "      <th>2</th>\n",
       "      <td>872</td>\n",
       "      <td>male</td>\n",
       "      <td>0</td>\n",
       "      <td>18-30</td>\n",
       "      <td>hs</td>\n",
       "    </tr>\n",
       "    <tr>\n",
       "      <th>3</th>\n",
       "      <td>2116</td>\n",
       "      <td>male</td>\n",
       "      <td>0</td>\n",
       "      <td>30-45</td>\n",
       "      <td>professional</td>\n",
       "    </tr>\n",
       "    <tr>\n",
       "      <th>4</th>\n",
       "      <td>453</td>\n",
       "      <td>male</td>\n",
       "      <td>0</td>\n",
       "      <td>30-45</td>\n",
       "      <td>hs</td>\n",
       "    </tr>\n",
       "  </tbody>\n",
       "</table>\n",
       "</div>"
      ],
      "text/plain": [
       "   worker_id  gender  english_first_language age_group     education\n",
       "0        833  female                       0     45-60     bachelors\n",
       "1       1072    male                       0     30-45     bachelors\n",
       "2        872    male                       0     18-30            hs\n",
       "3       2116    male                       0     30-45  professional\n",
       "4        453    male                       0     30-45            hs"
      ]
     },
     "execution_count": 109,
     "metadata": {},
     "output_type": "execute_result"
    }
   ],
   "source": [
    "aggression_comments.head()\n",
    "aggression_annotations.head()\n",
    "aggression_demographics.head()"
   ]
  },
  {
   "cell_type": "markdown",
   "metadata": {},
   "source": [
    "### Creating the train, test and dev data for aggression and checking the head of train"
   ]
  },
  {
   "cell_type": "code",
   "execution_count": 110,
   "metadata": {},
   "outputs": [
    {
     "data": {
      "text/html": [
       "<div>\n",
       "<style scoped>\n",
       "    .dataframe tbody tr th:only-of-type {\n",
       "        vertical-align: middle;\n",
       "    }\n",
       "\n",
       "    .dataframe tbody tr th {\n",
       "        vertical-align: top;\n",
       "    }\n",
       "\n",
       "    .dataframe thead th {\n",
       "        text-align: right;\n",
       "    }\n",
       "</style>\n",
       "<table border=\"1\" class=\"dataframe\">\n",
       "  <thead>\n",
       "    <tr style=\"text-align: right;\">\n",
       "      <th></th>\n",
       "      <th>rev_id</th>\n",
       "      <th>comment</th>\n",
       "      <th>year</th>\n",
       "      <th>logged_in</th>\n",
       "      <th>ns</th>\n",
       "      <th>sample</th>\n",
       "      <th>split</th>\n",
       "      <th>worker_id</th>\n",
       "      <th>aggression</th>\n",
       "      <th>aggression_score</th>\n",
       "      <th>gender</th>\n",
       "      <th>english_first_language</th>\n",
       "      <th>age_group</th>\n",
       "      <th>education</th>\n",
       "    </tr>\n",
       "  </thead>\n",
       "  <tbody>\n",
       "    <tr>\n",
       "      <th>0</th>\n",
       "      <td>37675</td>\n",
       "      <td>`-NEWLINE_TOKENThis is not ``creative``.  Thos...</td>\n",
       "      <td>2002</td>\n",
       "      <td>True</td>\n",
       "      <td>article</td>\n",
       "      <td>random</td>\n",
       "      <td>train</td>\n",
       "      <td>1362</td>\n",
       "      <td>1.0</td>\n",
       "      <td>-1.0</td>\n",
       "      <td>male</td>\n",
       "      <td>0.0</td>\n",
       "      <td>18-30</td>\n",
       "      <td>masters</td>\n",
       "    </tr>\n",
       "    <tr>\n",
       "      <th>1</th>\n",
       "      <td>37675</td>\n",
       "      <td>`-NEWLINE_TOKENThis is not ``creative``.  Thos...</td>\n",
       "      <td>2002</td>\n",
       "      <td>True</td>\n",
       "      <td>article</td>\n",
       "      <td>random</td>\n",
       "      <td>train</td>\n",
       "      <td>2408</td>\n",
       "      <td>0.0</td>\n",
       "      <td>1.0</td>\n",
       "      <td>male</td>\n",
       "      <td>1.0</td>\n",
       "      <td>30-45</td>\n",
       "      <td>hs</td>\n",
       "    </tr>\n",
       "  </tbody>\n",
       "</table>\n",
       "</div>"
      ],
      "text/plain": [
       "   rev_id                                            comment  year  logged_in  \\\n",
       "0   37675  `-NEWLINE_TOKENThis is not ``creative``.  Thos...  2002       True   \n",
       "1   37675  `-NEWLINE_TOKENThis is not ``creative``.  Thos...  2002       True   \n",
       "\n",
       "        ns  sample  split  worker_id  aggression  aggression_score gender  \\\n",
       "0  article  random  train       1362         1.0              -1.0   male   \n",
       "1  article  random  train       2408         0.0               1.0   male   \n",
       "\n",
       "   english_first_language age_group education  \n",
       "0                     0.0     18-30   masters  \n",
       "1                     1.0     30-45        hs  "
      ]
     },
     "execution_count": 110,
     "metadata": {},
     "output_type": "execute_result"
    }
   ],
   "source": [
    "aggression_base_trn, aggression_base_dev, aggression_base_test = data_processing(aggression_comments,\n",
    "                                                                                aggression_annotations,\n",
    "                                                                                aggression_demographics)\n",
    "aggression_base_trn.head(2)"
   ]
  },
  {
   "cell_type": "markdown",
   "metadata": {},
   "source": [
    "### Creating a mean aggression rating for each comment and filtering the comments with rating >0.5"
   ]
  },
  {
   "cell_type": "code",
   "execution_count": 111,
   "metadata": {},
   "outputs": [],
   "source": [
    "aggression_mean_all_cmnt, aggression_mean_aggressive_cmnt = mean_rating_per_comment_trn(aggression_base_trn,'aggression')"
   ]
  },
  {
   "cell_type": "markdown",
   "metadata": {},
   "source": [
    "### Creating the frequency and % appearance of identity terms in aggressive comments vs all comments"
   ]
  },
  {
   "cell_type": "code",
   "execution_count": 112,
   "metadata": {},
   "outputs": [
    {
     "data": {
      "text/html": [
       "<div>\n",
       "<style scoped>\n",
       "    .dataframe tbody tr th:only-of-type {\n",
       "        vertical-align: middle;\n",
       "    }\n",
       "\n",
       "    .dataframe tbody tr th {\n",
       "        vertical-align: top;\n",
       "    }\n",
       "\n",
       "    .dataframe thead th {\n",
       "        text-align: right;\n",
       "    }\n",
       "</style>\n",
       "<table border=\"1\" class=\"dataframe\">\n",
       "  <thead>\n",
       "    <tr style=\"text-align: right;\">\n",
       "      <th></th>\n",
       "      <th>identity</th>\n",
       "      <th>term_ratio_aggressive</th>\n",
       "      <th>term_ratio_overall</th>\n",
       "      <th>term_freq_aggressive</th>\n",
       "      <th>term_freq_overall</th>\n",
       "      <th>term_aggressive_ratio</th>\n",
       "    </tr>\n",
       "  </thead>\n",
       "  <tbody>\n",
       "    <tr>\n",
       "      <th>0</th>\n",
       "      <td>gay</td>\n",
       "      <td>3.49</td>\n",
       "      <td>0.80</td>\n",
       "      <td>308</td>\n",
       "      <td>558</td>\n",
       "      <td>55.20</td>\n",
       "    </tr>\n",
       "    <tr>\n",
       "      <th>1</th>\n",
       "      <td>lesbian</td>\n",
       "      <td>0.15</td>\n",
       "      <td>0.07</td>\n",
       "      <td>13</td>\n",
       "      <td>46</td>\n",
       "      <td>28.26</td>\n",
       "    </tr>\n",
       "    <tr>\n",
       "      <th>2</th>\n",
       "      <td>homosexual</td>\n",
       "      <td>0.79</td>\n",
       "      <td>0.27</td>\n",
       "      <td>70</td>\n",
       "      <td>185</td>\n",
       "      <td>37.84</td>\n",
       "    </tr>\n",
       "    <tr>\n",
       "      <th>3</th>\n",
       "      <td>heterosexual</td>\n",
       "      <td>0.02</td>\n",
       "      <td>0.03</td>\n",
       "      <td>2</td>\n",
       "      <td>19</td>\n",
       "      <td>10.53</td>\n",
       "    </tr>\n",
       "    <tr>\n",
       "      <th>4</th>\n",
       "      <td>transgender</td>\n",
       "      <td>0.03</td>\n",
       "      <td>0.03</td>\n",
       "      <td>3</td>\n",
       "      <td>18</td>\n",
       "      <td>16.67</td>\n",
       "    </tr>\n",
       "    <tr>\n",
       "      <th>5</th>\n",
       "      <td>queer</td>\n",
       "      <td>0.39</td>\n",
       "      <td>0.08</td>\n",
       "      <td>34</td>\n",
       "      <td>53</td>\n",
       "      <td>64.15</td>\n",
       "    </tr>\n",
       "    <tr>\n",
       "      <th>6</th>\n",
       "      <td>muslim</td>\n",
       "      <td>0.52</td>\n",
       "      <td>0.59</td>\n",
       "      <td>46</td>\n",
       "      <td>412</td>\n",
       "      <td>11.17</td>\n",
       "    </tr>\n",
       "    <tr>\n",
       "      <th>7</th>\n",
       "      <td>islam</td>\n",
       "      <td>0.56</td>\n",
       "      <td>0.63</td>\n",
       "      <td>49</td>\n",
       "      <td>439</td>\n",
       "      <td>11.16</td>\n",
       "    </tr>\n",
       "    <tr>\n",
       "      <th>8</th>\n",
       "      <td>atheist</td>\n",
       "      <td>0.23</td>\n",
       "      <td>0.15</td>\n",
       "      <td>20</td>\n",
       "      <td>106</td>\n",
       "      <td>18.87</td>\n",
       "    </tr>\n",
       "    <tr>\n",
       "      <th>9</th>\n",
       "      <td>jew</td>\n",
       "      <td>1.66</td>\n",
       "      <td>1.20</td>\n",
       "      <td>146</td>\n",
       "      <td>834</td>\n",
       "      <td>17.51</td>\n",
       "    </tr>\n",
       "    <tr>\n",
       "      <th>10</th>\n",
       "      <td>black</td>\n",
       "      <td>1.17</td>\n",
       "      <td>1.05</td>\n",
       "      <td>103</td>\n",
       "      <td>727</td>\n",
       "      <td>14.17</td>\n",
       "    </tr>\n",
       "    <tr>\n",
       "      <th>11</th>\n",
       "      <td>white</td>\n",
       "      <td>1.20</td>\n",
       "      <td>1.05</td>\n",
       "      <td>106</td>\n",
       "      <td>733</td>\n",
       "      <td>14.46</td>\n",
       "    </tr>\n",
       "  </tbody>\n",
       "</table>\n",
       "</div>"
      ],
      "text/plain": [
       "        identity  term_ratio_aggressive  term_ratio_overall  \\\n",
       "0            gay                   3.49                0.80   \n",
       "1        lesbian                   0.15                0.07   \n",
       "2     homosexual                   0.79                0.27   \n",
       "3   heterosexual                   0.02                0.03   \n",
       "4    transgender                   0.03                0.03   \n",
       "5          queer                   0.39                0.08   \n",
       "6         muslim                   0.52                0.59   \n",
       "7          islam                   0.56                0.63   \n",
       "8        atheist                   0.23                0.15   \n",
       "9            jew                   1.66                1.20   \n",
       "10         black                   1.17                1.05   \n",
       "11         white                   1.20                1.05   \n",
       "\n",
       "    term_freq_aggressive  term_freq_overall  term_aggressive_ratio  \n",
       "0                    308                558                  55.20  \n",
       "1                     13                 46                  28.26  \n",
       "2                     70                185                  37.84  \n",
       "3                      2                 19                  10.53  \n",
       "4                      3                 18                  16.67  \n",
       "5                     34                 53                  64.15  \n",
       "6                     46                412                  11.17  \n",
       "7                     49                439                  11.16  \n",
       "8                     20                106                  18.87  \n",
       "9                    146                834                  17.51  \n",
       "10                   103                727                  14.17  \n",
       "11                   106                733                  14.46  "
      ]
     },
     "execution_count": 112,
     "metadata": {},
     "output_type": "execute_result"
    }
   ],
   "source": [
    "aggression_identity_term_smry = identity_term_ratios(aggression_mean_all_cmnt,aggression_mean_aggressive_cmnt,'aggressive')\n",
    "aggression_identity_term_smry"
   ]
  },
  {
   "cell_type": "markdown",
   "metadata": {},
   "source": [
    "The above table lists some metrics that would help us in understanding if there is any bias associated with the chosen identity terms.The list and the subsequent analysis is based on the training data. We will be further exploring these metrics visually below"
   ]
  },
  {
   "cell_type": "markdown",
   "metadata": {},
   "source": [
    "### Plotting the % of comments containing an identity term that are labelled aggressive"
   ]
  },
  {
   "cell_type": "code",
   "execution_count": 113,
   "metadata": {},
   "outputs": [
    {
     "data": {
      "image/png": "[encoded data removed]",
      "text/plain": [
       "<Figure size 1080x432 with 1 Axes>"
      ]
     },
     "metadata": {
      "needs_background": "light"
     },
     "output_type": "display_data"
    }
   ],
   "source": [
    "identity_terms_pct_hostile_plot(aggression_identity_term_smry,\n",
    "                                'aggressive',\n",
    "                                aggression_mean_all_cmnt,\n",
    "                                aggression_mean_aggressive_cmnt)"
   ]
  },
  {
   "cell_type": "markdown",
   "metadata": {},
   "source": [
    "The above plot plots the % of comments that have an identity term in them being lablled as aggressive by a majority of the workers (with mean aggression >0.5). Looking at the plot, it can be seen that comments with the terms 'queer', 'gay' and 'homosexual' have a high perentage of being labelled as aggressive. For ex: Among 558 comments containing the word 'gay', 308 comments (**~55%**) had a mean aggression of > 0.5. On the other hand, the overall % of comments that were labelled as aggressive is **~12.6%**. This indicates an over representation of these identity terms and the trained ML model is likely to flag comments with these terms as aggressive with a very high probability (even when the term 'gay' is used in a positive connotation. for ex: I am proud to be a gay person."
   ]
  },
  {
   "cell_type": "markdown",
   "metadata": {},
   "source": [
    "### Plotting the % appearance in aggressive comments vs all comments for each identity term"
   ]
  },
  {
   "cell_type": "code",
   "execution_count": 114,
   "metadata": {},
   "outputs": [
    {
     "data": {
      "image/png": "[encoded data removed]",
      "text/plain": [
       "<Figure size 1080x432 with 1 Axes>"
      ]
     },
     "metadata": {
      "needs_background": "light"
     },
     "output_type": "display_data"
    }
   ],
   "source": [
    "identity_terms_hostile_vs_all_plot(aggression_identity_term_smry,'aggressive')"
   ]
  },
  {
   "cell_type": "markdown",
   "metadata": {},
   "source": [
    "The above plot plots the % appearance of identity terms in aggressive comments versus % appearance of those terms in all comments in the training data.On observation, it could be seen that among all comments that were labelled aggressive, the identity term 'gay' constituted **3.49%** of such comments. However, looking at the entire training data, comments with the word 'gay' accounts for only **0.8%**. This indicates an unintended bias that overrepresents 'gay' in the aggressive comments. Similarly, the terms *'homosexual'* and *'queer'* also have a high % of aggresive comments that may not be a representative of the population."
   ]
  },
  {
   "cell_type": "markdown",
   "metadata": {},
   "source": [
    "### Creating the demographic summaries and checking the head of each summary"
   ]
  },
  {
   "cell_type": "code",
   "execution_count": 115,
   "metadata": {},
   "outputs": [
    {
     "data": {
      "text/html": [
       "<div>\n",
       "<style scoped>\n",
       "    .dataframe tbody tr th:only-of-type {\n",
       "        vertical-align: middle;\n",
       "    }\n",
       "\n",
       "    .dataframe tbody tr th {\n",
       "        vertical-align: top;\n",
       "    }\n",
       "\n",
       "    .dataframe thead th {\n",
       "        text-align: right;\n",
       "    }\n",
       "</style>\n",
       "<table border=\"1\" class=\"dataframe\">\n",
       "  <thead>\n",
       "    <tr style=\"text-align: right;\">\n",
       "      <th></th>\n",
       "      <th>worker_id</th>\n",
       "      <th>gender</th>\n",
       "      <th>english_first_language</th>\n",
       "      <th>age_group</th>\n",
       "      <th>education</th>\n",
       "      <th>aggression_mean</th>\n",
       "    </tr>\n",
       "  </thead>\n",
       "  <tbody>\n",
       "    <tr>\n",
       "      <th>0</th>\n",
       "      <td>833</td>\n",
       "      <td>female</td>\n",
       "      <td>0</td>\n",
       "      <td>45-60</td>\n",
       "      <td>bachelors</td>\n",
       "      <td>0.164589</td>\n",
       "    </tr>\n",
       "    <tr>\n",
       "      <th>1</th>\n",
       "      <td>1072</td>\n",
       "      <td>male</td>\n",
       "      <td>0</td>\n",
       "      <td>30-45</td>\n",
       "      <td>bachelors</td>\n",
       "      <td>0.296875</td>\n",
       "    </tr>\n",
       "    <tr>\n",
       "      <th>2</th>\n",
       "      <td>872</td>\n",
       "      <td>male</td>\n",
       "      <td>0</td>\n",
       "      <td>18-30</td>\n",
       "      <td>hs</td>\n",
       "      <td>0.084175</td>\n",
       "    </tr>\n",
       "    <tr>\n",
       "      <th>3</th>\n",
       "      <td>2116</td>\n",
       "      <td>male</td>\n",
       "      <td>0</td>\n",
       "      <td>30-45</td>\n",
       "      <td>professional</td>\n",
       "      <td>0.357895</td>\n",
       "    </tr>\n",
       "    <tr>\n",
       "      <th>4</th>\n",
       "      <td>453</td>\n",
       "      <td>male</td>\n",
       "      <td>0</td>\n",
       "      <td>30-45</td>\n",
       "      <td>hs</td>\n",
       "      <td>0.138983</td>\n",
       "    </tr>\n",
       "  </tbody>\n",
       "</table>\n",
       "</div>"
      ],
      "text/plain": [
       "   worker_id  gender  english_first_language age_group     education  \\\n",
       "0        833  female                       0     45-60     bachelors   \n",
       "1       1072    male                       0     30-45     bachelors   \n",
       "2        872    male                       0     18-30            hs   \n",
       "3       2116    male                       0     30-45  professional   \n",
       "4        453    male                       0     30-45            hs   \n",
       "\n",
       "   aggression_mean  \n",
       "0         0.164589  \n",
       "1         0.296875  \n",
       "2         0.084175  \n",
       "3         0.357895  \n",
       "4         0.138983  "
      ]
     },
     "execution_count": 115,
     "metadata": {},
     "output_type": "execute_result"
    },
    {
     "data": {
      "text/html": [
       "<div>\n",
       "<style scoped>\n",
       "    .dataframe tbody tr th:only-of-type {\n",
       "        vertical-align: middle;\n",
       "    }\n",
       "\n",
       "    .dataframe tbody tr th {\n",
       "        vertical-align: top;\n",
       "    }\n",
       "\n",
       "    .dataframe thead th {\n",
       "        text-align: right;\n",
       "    }\n",
       "</style>\n",
       "<table border=\"1\" class=\"dataframe\">\n",
       "  <thead>\n",
       "    <tr style=\"text-align: right;\">\n",
       "      <th></th>\n",
       "      <th>gender</th>\n",
       "      <th>worker_id_count</th>\n",
       "      <th>rev_id_count</th>\n",
       "      <th>aggression_mean</th>\n",
       "      <th>worker_id_pct</th>\n",
       "      <th>rev_id_pct</th>\n",
       "    </tr>\n",
       "  </thead>\n",
       "  <tbody>\n",
       "    <tr>\n",
       "      <th>0</th>\n",
       "      <td>female</td>\n",
       "      <td>838</td>\n",
       "      <td>172849</td>\n",
       "      <td>0.194233</td>\n",
       "      <td>38.33</td>\n",
       "      <td>36.3</td>\n",
       "    </tr>\n",
       "    <tr>\n",
       "      <th>1</th>\n",
       "      <td>male</td>\n",
       "      <td>1348</td>\n",
       "      <td>303310</td>\n",
       "      <td>0.171356</td>\n",
       "      <td>61.67</td>\n",
       "      <td>63.7</td>\n",
       "    </tr>\n",
       "  </tbody>\n",
       "</table>\n",
       "</div>"
      ],
      "text/plain": [
       "   gender  worker_id_count  rev_id_count  aggression_mean  worker_id_pct  \\\n",
       "0  female              838        172849         0.194233          38.33   \n",
       "1    male             1348        303310         0.171356          61.67   \n",
       "\n",
       "   rev_id_pct  \n",
       "0        36.3  \n",
       "1        63.7  "
      ]
     },
     "execution_count": 115,
     "metadata": {},
     "output_type": "execute_result"
    },
    {
     "data": {
      "text/html": [
       "<div>\n",
       "<style scoped>\n",
       "    .dataframe tbody tr th:only-of-type {\n",
       "        vertical-align: middle;\n",
       "    }\n",
       "\n",
       "    .dataframe tbody tr th {\n",
       "        vertical-align: top;\n",
       "    }\n",
       "\n",
       "    .dataframe thead th {\n",
       "        text-align: right;\n",
       "    }\n",
       "</style>\n",
       "<table border=\"1\" class=\"dataframe\">\n",
       "  <thead>\n",
       "    <tr style=\"text-align: right;\">\n",
       "      <th></th>\n",
       "      <th>age_group</th>\n",
       "      <th>worker_id_count</th>\n",
       "      <th>rev_id_count</th>\n",
       "      <th>aggression_mean</th>\n",
       "      <th>worker_id_pct</th>\n",
       "      <th>rev_id_pct</th>\n",
       "    </tr>\n",
       "  </thead>\n",
       "  <tbody>\n",
       "    <tr>\n",
       "      <th>0</th>\n",
       "      <td>18-30</td>\n",
       "      <td>1046</td>\n",
       "      <td>217610</td>\n",
       "      <td>0.165195</td>\n",
       "      <td>48.63</td>\n",
       "      <td>46.34</td>\n",
       "    </tr>\n",
       "    <tr>\n",
       "      <th>1</th>\n",
       "      <td>30-45</td>\n",
       "      <td>831</td>\n",
       "      <td>199182</td>\n",
       "      <td>0.185810</td>\n",
       "      <td>38.63</td>\n",
       "      <td>42.42</td>\n",
       "    </tr>\n",
       "    <tr>\n",
       "      <th>2</th>\n",
       "      <td>45-60</td>\n",
       "      <td>217</td>\n",
       "      <td>43243</td>\n",
       "      <td>0.231344</td>\n",
       "      <td>10.09</td>\n",
       "      <td>9.21</td>\n",
       "    </tr>\n",
       "    <tr>\n",
       "      <th>3</th>\n",
       "      <td>Over 60</td>\n",
       "      <td>20</td>\n",
       "      <td>4317</td>\n",
       "      <td>0.227936</td>\n",
       "      <td>0.93</td>\n",
       "      <td>0.92</td>\n",
       "    </tr>\n",
       "    <tr>\n",
       "      <th>4</th>\n",
       "      <td>Under 18</td>\n",
       "      <td>37</td>\n",
       "      <td>5241</td>\n",
       "      <td>0.125930</td>\n",
       "      <td>1.72</td>\n",
       "      <td>1.12</td>\n",
       "    </tr>\n",
       "  </tbody>\n",
       "</table>\n",
       "</div>"
      ],
      "text/plain": [
       "  age_group  worker_id_count  rev_id_count  aggression_mean  worker_id_pct  \\\n",
       "0     18-30             1046        217610         0.165195          48.63   \n",
       "1     30-45              831        199182         0.185810          38.63   \n",
       "2     45-60              217         43243         0.231344          10.09   \n",
       "3   Over 60               20          4317         0.227936           0.93   \n",
       "4  Under 18               37          5241         0.125930           1.72   \n",
       "\n",
       "   rev_id_pct  \n",
       "0       46.34  \n",
       "1       42.42  \n",
       "2        9.21  \n",
       "3        0.92  \n",
       "4        1.12  "
      ]
     },
     "execution_count": 115,
     "metadata": {},
     "output_type": "execute_result"
    },
    {
     "data": {
      "text/html": [
       "<div>\n",
       "<style scoped>\n",
       "    .dataframe tbody tr th:only-of-type {\n",
       "        vertical-align: middle;\n",
       "    }\n",
       "\n",
       "    .dataframe tbody tr th {\n",
       "        vertical-align: top;\n",
       "    }\n",
       "\n",
       "    .dataframe thead th {\n",
       "        text-align: right;\n",
       "    }\n",
       "</style>\n",
       "<table border=\"1\" class=\"dataframe\">\n",
       "  <thead>\n",
       "    <tr style=\"text-align: right;\">\n",
       "      <th></th>\n",
       "      <th>education</th>\n",
       "      <th>worker_id_count</th>\n",
       "      <th>rev_id_count</th>\n",
       "      <th>aggression_mean</th>\n",
       "      <th>worker_id_pct</th>\n",
       "      <th>rev_id_pct</th>\n",
       "    </tr>\n",
       "  </thead>\n",
       "  <tbody>\n",
       "    <tr>\n",
       "      <th>0</th>\n",
       "      <td>bachelors</td>\n",
       "      <td>860</td>\n",
       "      <td>191785</td>\n",
       "      <td>0.178601</td>\n",
       "      <td>39.34</td>\n",
       "      <td>40.28</td>\n",
       "    </tr>\n",
       "    <tr>\n",
       "      <th>1</th>\n",
       "      <td>doctorate</td>\n",
       "      <td>20</td>\n",
       "      <td>4261</td>\n",
       "      <td>0.190566</td>\n",
       "      <td>0.91</td>\n",
       "      <td>0.89</td>\n",
       "    </tr>\n",
       "    <tr>\n",
       "      <th>2</th>\n",
       "      <td>hs</td>\n",
       "      <td>630</td>\n",
       "      <td>132848</td>\n",
       "      <td>0.180183</td>\n",
       "      <td>28.82</td>\n",
       "      <td>27.90</td>\n",
       "    </tr>\n",
       "    <tr>\n",
       "      <th>3</th>\n",
       "      <td>masters</td>\n",
       "      <td>385</td>\n",
       "      <td>85743</td>\n",
       "      <td>0.179758</td>\n",
       "      <td>17.61</td>\n",
       "      <td>18.01</td>\n",
       "    </tr>\n",
       "    <tr>\n",
       "      <th>4</th>\n",
       "      <td>none</td>\n",
       "      <td>1</td>\n",
       "      <td>56</td>\n",
       "      <td>0.089286</td>\n",
       "      <td>0.05</td>\n",
       "      <td>0.01</td>\n",
       "    </tr>\n",
       "  </tbody>\n",
       "</table>\n",
       "</div>"
      ],
      "text/plain": [
       "   education  worker_id_count  rev_id_count  aggression_mean  worker_id_pct  \\\n",
       "0  bachelors              860        191785         0.178601          39.34   \n",
       "1  doctorate               20          4261         0.190566           0.91   \n",
       "2         hs              630        132848         0.180183          28.82   \n",
       "3    masters              385         85743         0.179758          17.61   \n",
       "4       none                1            56         0.089286           0.05   \n",
       "\n",
       "   rev_id_pct  \n",
       "0       40.28  \n",
       "1        0.89  \n",
       "2       27.90  \n",
       "3       18.01  \n",
       "4        0.01  "
      ]
     },
     "execution_count": 115,
     "metadata": {},
     "output_type": "execute_result"
    }
   ],
   "source": [
    "aggression_dmgraph_w_avg_rating = worker_avg_hostility_rating(aggression_base_trn,aggression_demographics,'aggression')\n",
    "\n",
    "aggression_smry_by_gender   = summary_by_demography(aggression_base_trn,'gender','aggression')\n",
    "aggression_smry_by_age      = summary_by_demography(aggression_base_trn,'age_group','aggression')\n",
    "aggression_smry_by_education= summary_by_demography(aggression_base_trn,'education','aggression')\n",
    "\n",
    "aggression_dmgraph_w_avg_rating.head()\n",
    "aggression_smry_by_gender.head()\n",
    "aggression_smry_by_age.head()\n",
    "aggression_smry_by_education.head()"
   ]
  },
  {
   "cell_type": "markdown",
   "metadata": {},
   "source": [
    "### Plotting distribution of % workers/annotations and mean aggression rating by gender"
   ]
  },
  {
   "cell_type": "code",
   "execution_count": 116,
   "metadata": {},
   "outputs": [
    {
     "data": {
      "image/png": "[encoded data removed]",
      "text/plain": [
       "<Figure size 1080x432 with 2 Axes>"
      ]
     },
     "metadata": {
      "needs_background": "light"
     },
     "output_type": "display_data"
    }
   ],
   "source": [
    "demography_plot(aggression_smry_by_gender,aggression_dmgraph_w_avg_rating,'aggression','gender')"
   ]
  },
  {
   "cell_type": "markdown",
   "metadata": {},
   "source": [
    "In terms of gender distribution, both the number of workers and the number of annotations are skewed towards male group as they make up 3/5th (~60%) of the training set. This bias might impact an ML model as the labelling behavior of the male group is different as compared to the female group. As observed in the boxplot, male group tends to have a higher tolerance for aggressive comments as their overall mean rating for aggression ($~0.17$) is lower then the female group's mean ($~0.19$). This bias might potentially result in the ML model not flagging certain comments as aggressive.\n",
    "\n",
    "For the purpose of analysis, since there was only one worker with the gender 'other', only male and female workers are considered."
   ]
  },
  {
   "cell_type": "markdown",
   "metadata": {},
   "source": [
    "### Plotting distribution of % workers/annotations and mean aggression rating by age group"
   ]
  },
  {
   "cell_type": "code",
   "execution_count": 117,
   "metadata": {},
   "outputs": [
    {
     "data": {
      "image/png": "[encoded data removed]",
      "text/plain": [
       "<Figure size 1080x432 with 2 Axes>"
      ]
     },
     "metadata": {
      "needs_background": "light"
     },
     "output_type": "display_data"
    }
   ],
   "source": [
    "demography_plot(aggression_smry_by_age,aggression_dmgraph_w_avg_rating,'aggression','age_group')"
   ]
  },
  {
   "cell_type": "markdown",
   "metadata": {},
   "source": [
    "Looking at the age group distribution, the age groups 18-45 account for ~90% of the training group. While this might be a representative of wikipedia editors, it need not necessarily represent the viewer population. This bias once again might impact the performance of the ML model as there is a difference in the labelling behavior of a 20 year old worker compared to a 50 year old worker. Younger annotation workers are more tolerant to aggressive comments and the mean aggression rating increases with the age group."
   ]
  },
  {
   "cell_type": "markdown",
   "metadata": {},
   "source": [
    "### Plotting distribution of % workers/annotations and mean aggression rating by education"
   ]
  },
  {
   "cell_type": "code",
   "execution_count": 118,
   "metadata": {},
   "outputs": [
    {
     "data": {
      "image/png": "[encoded data removed]",
      "text/plain": [
       "<Figure size 1080x432 with 2 Axes>"
      ]
     },
     "metadata": {
      "needs_background": "light"
     },
     "output_type": "display_data"
    }
   ],
   "source": [
    "demography_plot(aggression_smry_by_education,aggression_dmgraph_w_avg_rating,'aggression','education')"
   ]
  },
  {
   "cell_type": "markdown",
   "metadata": {},
   "source": [
    "Lokoing at the education levels of the workers, majority of the crowd has either bachelors degree or a high school education, followed by masters. The labelling behavior on the other hand is quite consistent (mean aggression rating) across the education levels indicating no obvious bias"
   ]
  },
  {
   "cell_type": "markdown",
   "metadata": {},
   "source": [
    "## 1c. Toxicity analysis\n",
    "### Checking the head of toxicity datasets"
   ]
  },
  {
   "cell_type": "code",
   "execution_count": 119,
   "metadata": {},
   "outputs": [
    {
     "data": {
      "text/html": [
       "<div>\n",
       "<style scoped>\n",
       "    .dataframe tbody tr th:only-of-type {\n",
       "        vertical-align: middle;\n",
       "    }\n",
       "\n",
       "    .dataframe tbody tr th {\n",
       "        vertical-align: top;\n",
       "    }\n",
       "\n",
       "    .dataframe thead th {\n",
       "        text-align: right;\n",
       "    }\n",
       "</style>\n",
       "<table border=\"1\" class=\"dataframe\">\n",
       "  <thead>\n",
       "    <tr style=\"text-align: right;\">\n",
       "      <th></th>\n",
       "      <th>rev_id</th>\n",
       "      <th>worker_id</th>\n",
       "      <th>toxicity</th>\n",
       "      <th>toxicity_score</th>\n",
       "    </tr>\n",
       "  </thead>\n",
       "  <tbody>\n",
       "    <tr>\n",
       "      <th>0</th>\n",
       "      <td>2232.0</td>\n",
       "      <td>723</td>\n",
       "      <td>0</td>\n",
       "      <td>0.0</td>\n",
       "    </tr>\n",
       "    <tr>\n",
       "      <th>1</th>\n",
       "      <td>2232.0</td>\n",
       "      <td>4000</td>\n",
       "      <td>0</td>\n",
       "      <td>0.0</td>\n",
       "    </tr>\n",
       "    <tr>\n",
       "      <th>2</th>\n",
       "      <td>2232.0</td>\n",
       "      <td>3989</td>\n",
       "      <td>0</td>\n",
       "      <td>1.0</td>\n",
       "    </tr>\n",
       "    <tr>\n",
       "      <th>3</th>\n",
       "      <td>2232.0</td>\n",
       "      <td>3341</td>\n",
       "      <td>0</td>\n",
       "      <td>0.0</td>\n",
       "    </tr>\n",
       "    <tr>\n",
       "      <th>4</th>\n",
       "      <td>2232.0</td>\n",
       "      <td>1574</td>\n",
       "      <td>0</td>\n",
       "      <td>1.0</td>\n",
       "    </tr>\n",
       "  </tbody>\n",
       "</table>\n",
       "</div>"
      ],
      "text/plain": [
       "   rev_id  worker_id  toxicity  toxicity_score\n",
       "0  2232.0        723         0             0.0\n",
       "1  2232.0       4000         0             0.0\n",
       "2  2232.0       3989         0             1.0\n",
       "3  2232.0       3341         0             0.0\n",
       "4  2232.0       1574         0             1.0"
      ]
     },
     "execution_count": 119,
     "metadata": {},
     "output_type": "execute_result"
    },
    {
     "data": {
      "text/html": [
       "<div>\n",
       "<style scoped>\n",
       "    .dataframe tbody tr th:only-of-type {\n",
       "        vertical-align: middle;\n",
       "    }\n",
       "\n",
       "    .dataframe tbody tr th {\n",
       "        vertical-align: top;\n",
       "    }\n",
       "\n",
       "    .dataframe thead th {\n",
       "        text-align: right;\n",
       "    }\n",
       "</style>\n",
       "<table border=\"1\" class=\"dataframe\">\n",
       "  <thead>\n",
       "    <tr style=\"text-align: right;\">\n",
       "      <th></th>\n",
       "      <th>rev_id</th>\n",
       "      <th>comment</th>\n",
       "      <th>year</th>\n",
       "      <th>logged_in</th>\n",
       "      <th>ns</th>\n",
       "      <th>sample</th>\n",
       "      <th>split</th>\n",
       "    </tr>\n",
       "  </thead>\n",
       "  <tbody>\n",
       "    <tr>\n",
       "      <th>0</th>\n",
       "      <td>2232.0</td>\n",
       "      <td>This:NEWLINE_TOKEN:One can make an analogy in ...</td>\n",
       "      <td>2002</td>\n",
       "      <td>True</td>\n",
       "      <td>article</td>\n",
       "      <td>random</td>\n",
       "      <td>train</td>\n",
       "    </tr>\n",
       "    <tr>\n",
       "      <th>1</th>\n",
       "      <td>4216.0</td>\n",
       "      <td>`NEWLINE_TOKENNEWLINE_TOKEN:Clarification for ...</td>\n",
       "      <td>2002</td>\n",
       "      <td>True</td>\n",
       "      <td>user</td>\n",
       "      <td>random</td>\n",
       "      <td>train</td>\n",
       "    </tr>\n",
       "    <tr>\n",
       "      <th>2</th>\n",
       "      <td>8953.0</td>\n",
       "      <td>Elected or Electoral? JHK</td>\n",
       "      <td>2002</td>\n",
       "      <td>False</td>\n",
       "      <td>article</td>\n",
       "      <td>random</td>\n",
       "      <td>test</td>\n",
       "    </tr>\n",
       "    <tr>\n",
       "      <th>3</th>\n",
       "      <td>26547.0</td>\n",
       "      <td>`This is such a fun entry.   DevotchkaNEWLINE_...</td>\n",
       "      <td>2002</td>\n",
       "      <td>True</td>\n",
       "      <td>article</td>\n",
       "      <td>random</td>\n",
       "      <td>train</td>\n",
       "    </tr>\n",
       "    <tr>\n",
       "      <th>4</th>\n",
       "      <td>28959.0</td>\n",
       "      <td>Please relate the ozone hole to increases in c...</td>\n",
       "      <td>2002</td>\n",
       "      <td>True</td>\n",
       "      <td>article</td>\n",
       "      <td>random</td>\n",
       "      <td>test</td>\n",
       "    </tr>\n",
       "  </tbody>\n",
       "</table>\n",
       "</div>"
      ],
      "text/plain": [
       "    rev_id                                            comment  year  \\\n",
       "0   2232.0  This:NEWLINE_TOKEN:One can make an analogy in ...  2002   \n",
       "1   4216.0  `NEWLINE_TOKENNEWLINE_TOKEN:Clarification for ...  2002   \n",
       "2   8953.0                          Elected or Electoral? JHK  2002   \n",
       "3  26547.0  `This is such a fun entry.   DevotchkaNEWLINE_...  2002   \n",
       "4  28959.0  Please relate the ozone hole to increases in c...  2002   \n",
       "\n",
       "   logged_in       ns  sample  split  \n",
       "0       True  article  random  train  \n",
       "1       True     user  random  train  \n",
       "2      False  article  random   test  \n",
       "3       True  article  random  train  \n",
       "4       True  article  random   test  "
      ]
     },
     "execution_count": 119,
     "metadata": {},
     "output_type": "execute_result"
    },
    {
     "data": {
      "text/html": [
       "<div>\n",
       "<style scoped>\n",
       "    .dataframe tbody tr th:only-of-type {\n",
       "        vertical-align: middle;\n",
       "    }\n",
       "\n",
       "    .dataframe tbody tr th {\n",
       "        vertical-align: top;\n",
       "    }\n",
       "\n",
       "    .dataframe thead th {\n",
       "        text-align: right;\n",
       "    }\n",
       "</style>\n",
       "<table border=\"1\" class=\"dataframe\">\n",
       "  <thead>\n",
       "    <tr style=\"text-align: right;\">\n",
       "      <th></th>\n",
       "      <th>worker_id</th>\n",
       "      <th>gender</th>\n",
       "      <th>english_first_language</th>\n",
       "      <th>age_group</th>\n",
       "      <th>education</th>\n",
       "    </tr>\n",
       "  </thead>\n",
       "  <tbody>\n",
       "    <tr>\n",
       "      <th>0</th>\n",
       "      <td>85</td>\n",
       "      <td>female</td>\n",
       "      <td>0</td>\n",
       "      <td>18-30</td>\n",
       "      <td>bachelors</td>\n",
       "    </tr>\n",
       "    <tr>\n",
       "      <th>1</th>\n",
       "      <td>1617</td>\n",
       "      <td>female</td>\n",
       "      <td>0</td>\n",
       "      <td>45-60</td>\n",
       "      <td>bachelors</td>\n",
       "    </tr>\n",
       "    <tr>\n",
       "      <th>2</th>\n",
       "      <td>1394</td>\n",
       "      <td>female</td>\n",
       "      <td>0</td>\n",
       "      <td>NaN</td>\n",
       "      <td>bachelors</td>\n",
       "    </tr>\n",
       "    <tr>\n",
       "      <th>3</th>\n",
       "      <td>311</td>\n",
       "      <td>male</td>\n",
       "      <td>0</td>\n",
       "      <td>30-45</td>\n",
       "      <td>bachelors</td>\n",
       "    </tr>\n",
       "    <tr>\n",
       "      <th>4</th>\n",
       "      <td>1980</td>\n",
       "      <td>male</td>\n",
       "      <td>0</td>\n",
       "      <td>45-60</td>\n",
       "      <td>masters</td>\n",
       "    </tr>\n",
       "  </tbody>\n",
       "</table>\n",
       "</div>"
      ],
      "text/plain": [
       "   worker_id  gender  english_first_language age_group  education\n",
       "0         85  female                       0     18-30  bachelors\n",
       "1       1617  female                       0     45-60  bachelors\n",
       "2       1394  female                       0       NaN  bachelors\n",
       "3        311    male                       0     30-45  bachelors\n",
       "4       1980    male                       0     45-60    masters"
      ]
     },
     "execution_count": 119,
     "metadata": {},
     "output_type": "execute_result"
    }
   ],
   "source": [
    "toxicity_comments.head()\n",
    "toxicity_annotations.head()\n",
    "toxicity_demographics.head()"
   ]
  },
  {
   "cell_type": "markdown",
   "metadata": {},
   "source": [
    "### Creating the base data split into train, test and dev sets after some basic preprocessing"
   ]
  },
  {
   "cell_type": "code",
   "execution_count": 120,
   "metadata": {},
   "outputs": [
    {
     "data": {
      "text/html": [
       "<div>\n",
       "<style scoped>\n",
       "    .dataframe tbody tr th:only-of-type {\n",
       "        vertical-align: middle;\n",
       "    }\n",
       "\n",
       "    .dataframe tbody tr th {\n",
       "        vertical-align: top;\n",
       "    }\n",
       "\n",
       "    .dataframe thead th {\n",
       "        text-align: right;\n",
       "    }\n",
       "</style>\n",
       "<table border=\"1\" class=\"dataframe\">\n",
       "  <thead>\n",
       "    <tr style=\"text-align: right;\">\n",
       "      <th></th>\n",
       "      <th>rev_id</th>\n",
       "      <th>worker_id</th>\n",
       "      <th>toxicity</th>\n",
       "      <th>toxicity_score</th>\n",
       "      <th>comment</th>\n",
       "      <th>year</th>\n",
       "      <th>logged_in</th>\n",
       "      <th>ns</th>\n",
       "      <th>sample</th>\n",
       "      <th>split</th>\n",
       "      <th>gender</th>\n",
       "      <th>english_first_language</th>\n",
       "      <th>age_group</th>\n",
       "      <th>education</th>\n",
       "    </tr>\n",
       "  </thead>\n",
       "  <tbody>\n",
       "    <tr>\n",
       "      <th>0</th>\n",
       "      <td>2232.0</td>\n",
       "      <td>723</td>\n",
       "      <td>0</td>\n",
       "      <td>0.0</td>\n",
       "      <td>This:NEWLINE_TOKEN:One can make an analogy in ...</td>\n",
       "      <td>2002</td>\n",
       "      <td>True</td>\n",
       "      <td>article</td>\n",
       "      <td>random</td>\n",
       "      <td>train</td>\n",
       "      <td>female</td>\n",
       "      <td>0.0</td>\n",
       "      <td>30-45</td>\n",
       "      <td>bachelors</td>\n",
       "    </tr>\n",
       "    <tr>\n",
       "      <th>1</th>\n",
       "      <td>2232.0</td>\n",
       "      <td>4000</td>\n",
       "      <td>0</td>\n",
       "      <td>0.0</td>\n",
       "      <td>This:NEWLINE_TOKEN:One can make an analogy in ...</td>\n",
       "      <td>2002</td>\n",
       "      <td>True</td>\n",
       "      <td>article</td>\n",
       "      <td>random</td>\n",
       "      <td>train</td>\n",
       "      <td>male</td>\n",
       "      <td>1.0</td>\n",
       "      <td>18-30</td>\n",
       "      <td>hs</td>\n",
       "    </tr>\n",
       "  </tbody>\n",
       "</table>\n",
       "</div>"
      ],
      "text/plain": [
       "   rev_id  worker_id  toxicity  toxicity_score  \\\n",
       "0  2232.0        723         0             0.0   \n",
       "1  2232.0       4000         0             0.0   \n",
       "\n",
       "                                             comment  year  logged_in  \\\n",
       "0  This:NEWLINE_TOKEN:One can make an analogy in ...  2002       True   \n",
       "1  This:NEWLINE_TOKEN:One can make an analogy in ...  2002       True   \n",
       "\n",
       "        ns  sample  split  gender  english_first_language age_group  education  \n",
       "0  article  random  train  female                     0.0     30-45  bachelors  \n",
       "1  article  random  train    male                     1.0     18-30         hs  "
      ]
     },
     "execution_count": 120,
     "metadata": {},
     "output_type": "execute_result"
    }
   ],
   "source": [
    "toxicity_base_trn, toxicity_base_dev, toxicity_base_test = data_processing(toxicity_comments,\n",
    "                                                                                toxicity_annotations,\n",
    "                                                                                toxicity_demographics)\n",
    "toxicity_base_trn.head(2)"
   ]
  },
  {
   "cell_type": "markdown",
   "metadata": {},
   "source": [
    "### Creating a mean toxicity rating for each comment and filtering the comments with rating >0.5"
   ]
  },
  {
   "cell_type": "code",
   "execution_count": 121,
   "metadata": {},
   "outputs": [],
   "source": [
    "toxicity_mean_all_cmnt, toxicity_mean_aggressive_cmnt = mean_rating_per_comment_trn(toxicity_base_trn,'toxicity')"
   ]
  },
  {
   "cell_type": "markdown",
   "metadata": {},
   "source": [
    "### Creating a set of frequency and ratio metrics for each identity term in the toxicity training data"
   ]
  },
  {
   "cell_type": "code",
   "execution_count": 122,
   "metadata": {},
   "outputs": [
    {
     "data": {
      "text/html": [
       "<div>\n",
       "<style scoped>\n",
       "    .dataframe tbody tr th:only-of-type {\n",
       "        vertical-align: middle;\n",
       "    }\n",
       "\n",
       "    .dataframe tbody tr th {\n",
       "        vertical-align: top;\n",
       "    }\n",
       "\n",
       "    .dataframe thead th {\n",
       "        text-align: right;\n",
       "    }\n",
       "</style>\n",
       "<table border=\"1\" class=\"dataframe\">\n",
       "  <thead>\n",
       "    <tr style=\"text-align: right;\">\n",
       "      <th></th>\n",
       "      <th>identity</th>\n",
       "      <th>term_ratio_toxic</th>\n",
       "      <th>term_ratio_overall</th>\n",
       "      <th>term_freq_toxic</th>\n",
       "      <th>term_freq_overall</th>\n",
       "      <th>term_toxic_ratio</th>\n",
       "    </tr>\n",
       "  </thead>\n",
       "  <tbody>\n",
       "    <tr>\n",
       "      <th>0</th>\n",
       "      <td>gay</td>\n",
       "      <td>3.80</td>\n",
       "      <td>0.67</td>\n",
       "      <td>351</td>\n",
       "      <td>638</td>\n",
       "      <td>55.02</td>\n",
       "    </tr>\n",
       "    <tr>\n",
       "      <th>1</th>\n",
       "      <td>lesbian</td>\n",
       "      <td>0.16</td>\n",
       "      <td>0.05</td>\n",
       "      <td>15</td>\n",
       "      <td>50</td>\n",
       "      <td>30.00</td>\n",
       "    </tr>\n",
       "    <tr>\n",
       "      <th>2</th>\n",
       "      <td>homosexual</td>\n",
       "      <td>0.91</td>\n",
       "      <td>0.23</td>\n",
       "      <td>84</td>\n",
       "      <td>216</td>\n",
       "      <td>38.89</td>\n",
       "    </tr>\n",
       "    <tr>\n",
       "      <th>3</th>\n",
       "      <td>heterosexual</td>\n",
       "      <td>0.02</td>\n",
       "      <td>0.03</td>\n",
       "      <td>2</td>\n",
       "      <td>27</td>\n",
       "      <td>7.41</td>\n",
       "    </tr>\n",
       "    <tr>\n",
       "      <th>4</th>\n",
       "      <td>transgender</td>\n",
       "      <td>0.04</td>\n",
       "      <td>0.03</td>\n",
       "      <td>4</td>\n",
       "      <td>24</td>\n",
       "      <td>16.67</td>\n",
       "    </tr>\n",
       "    <tr>\n",
       "      <th>5</th>\n",
       "      <td>queer</td>\n",
       "      <td>0.38</td>\n",
       "      <td>0.06</td>\n",
       "      <td>35</td>\n",
       "      <td>61</td>\n",
       "      <td>57.38</td>\n",
       "    </tr>\n",
       "    <tr>\n",
       "      <th>6</th>\n",
       "      <td>muslim</td>\n",
       "      <td>0.56</td>\n",
       "      <td>0.49</td>\n",
       "      <td>52</td>\n",
       "      <td>467</td>\n",
       "      <td>11.13</td>\n",
       "    </tr>\n",
       "    <tr>\n",
       "      <th>7</th>\n",
       "      <td>islam</td>\n",
       "      <td>0.48</td>\n",
       "      <td>0.51</td>\n",
       "      <td>44</td>\n",
       "      <td>491</td>\n",
       "      <td>8.96</td>\n",
       "    </tr>\n",
       "    <tr>\n",
       "      <th>8</th>\n",
       "      <td>atheist</td>\n",
       "      <td>0.17</td>\n",
       "      <td>0.13</td>\n",
       "      <td>16</td>\n",
       "      <td>121</td>\n",
       "      <td>13.22</td>\n",
       "    </tr>\n",
       "    <tr>\n",
       "      <th>9</th>\n",
       "      <td>jew</td>\n",
       "      <td>1.72</td>\n",
       "      <td>0.95</td>\n",
       "      <td>159</td>\n",
       "      <td>913</td>\n",
       "      <td>17.42</td>\n",
       "    </tr>\n",
       "    <tr>\n",
       "      <th>10</th>\n",
       "      <td>black</td>\n",
       "      <td>1.17</td>\n",
       "      <td>0.91</td>\n",
       "      <td>108</td>\n",
       "      <td>871</td>\n",
       "      <td>12.40</td>\n",
       "    </tr>\n",
       "    <tr>\n",
       "      <th>11</th>\n",
       "      <td>white</td>\n",
       "      <td>1.22</td>\n",
       "      <td>0.98</td>\n",
       "      <td>113</td>\n",
       "      <td>938</td>\n",
       "      <td>12.05</td>\n",
       "    </tr>\n",
       "  </tbody>\n",
       "</table>\n",
       "</div>"
      ],
      "text/plain": [
       "        identity  term_ratio_toxic  term_ratio_overall  term_freq_toxic  \\\n",
       "0            gay              3.80                0.67              351   \n",
       "1        lesbian              0.16                0.05               15   \n",
       "2     homosexual              0.91                0.23               84   \n",
       "3   heterosexual              0.02                0.03                2   \n",
       "4    transgender              0.04                0.03                4   \n",
       "5          queer              0.38                0.06               35   \n",
       "6         muslim              0.56                0.49               52   \n",
       "7          islam              0.48                0.51               44   \n",
       "8        atheist              0.17                0.13               16   \n",
       "9            jew              1.72                0.95              159   \n",
       "10         black              1.17                0.91              108   \n",
       "11         white              1.22                0.98              113   \n",
       "\n",
       "    term_freq_overall  term_toxic_ratio  \n",
       "0                 638             55.02  \n",
       "1                  50             30.00  \n",
       "2                 216             38.89  \n",
       "3                  27              7.41  \n",
       "4                  24             16.67  \n",
       "5                  61             57.38  \n",
       "6                 467             11.13  \n",
       "7                 491              8.96  \n",
       "8                 121             13.22  \n",
       "9                 913             17.42  \n",
       "10                871             12.40  \n",
       "11                938             12.05  "
      ]
     },
     "execution_count": 122,
     "metadata": {},
     "output_type": "execute_result"
    }
   ],
   "source": [
    "toxicity_identity_term_smry = identity_term_ratios(toxicity_mean_all_cmnt,toxicity_mean_aggressive_cmnt,'toxic')\n",
    "toxicity_identity_term_smry"
   ]
  },
  {
   "cell_type": "markdown",
   "metadata": {},
   "source": [
    "### Plotting the % of comments with identity terms that are labelled toxic"
   ]
  },
  {
   "cell_type": "code",
   "execution_count": 123,
   "metadata": {},
   "outputs": [
    {
     "data": {
      "image/png": "[encoded data removed]",
      "text/plain": [
       "<Figure size 1080x432 with 1 Axes>"
      ]
     },
     "metadata": {
      "needs_background": "light"
     },
     "output_type": "display_data"
    }
   ],
   "source": [
    "identity_terms_pct_hostile_plot(toxicity_identity_term_smry,'toxic',toxicity_mean_all_cmnt, toxicity_mean_aggressive_cmnt)"
   ]
  },
  {
   "cell_type": "markdown",
   "metadata": {},
   "source": [
    "Just like aggression, a high % of comments with the words 'queer', 'gay' and 'homosexual' in the training data are labelled as toxic by the workers, which is much higher than the overall average of 9.66%, once again indicating a potential bias for these terms."
   ]
  },
  {
   "cell_type": "markdown",
   "metadata": {},
   "source": [
    "### Plotting the % appearance of identity terms in toxic comments vs. all comments"
   ]
  },
  {
   "cell_type": "code",
   "execution_count": 124,
   "metadata": {},
   "outputs": [
    {
     "data": {
      "image/png": "[encoded data removed]",
      "text/plain": [
       "<Figure size 1080x432 with 1 Axes>"
      ]
     },
     "metadata": {
      "needs_background": "light"
     },
     "output_type": "display_data"
    }
   ],
   "source": [
    "identity_terms_hostile_vs_all_plot(toxicity_identity_term_smry,'toxic')"
   ]
  },
  {
   "cell_type": "markdown",
   "metadata": {},
   "source": [
    "Like aggression, comments with the word 'gay' account for only 0.67% in the training data, whereas the number shoots up to 3.8% when filtered for toxic comments. One notable difference between toxicity and aggression is observed for the word 'jew' as the representation of 'jew' in the toxic comments is much higher compared to the overall representation and this is a potential bias in the training data"
   ]
  },
  {
   "cell_type": "markdown",
   "metadata": {},
   "source": [
    "### Calculating the counts and rating averages by gender, age and education"
   ]
  },
  {
   "cell_type": "code",
   "execution_count": 125,
   "metadata": {},
   "outputs": [
    {
     "data": {
      "text/html": [
       "<div>\n",
       "<style scoped>\n",
       "    .dataframe tbody tr th:only-of-type {\n",
       "        vertical-align: middle;\n",
       "    }\n",
       "\n",
       "    .dataframe tbody tr th {\n",
       "        vertical-align: top;\n",
       "    }\n",
       "\n",
       "    .dataframe thead th {\n",
       "        text-align: right;\n",
       "    }\n",
       "</style>\n",
       "<table border=\"1\" class=\"dataframe\">\n",
       "  <thead>\n",
       "    <tr style=\"text-align: right;\">\n",
       "      <th></th>\n",
       "      <th>worker_id</th>\n",
       "      <th>gender</th>\n",
       "      <th>english_first_language</th>\n",
       "      <th>age_group</th>\n",
       "      <th>education</th>\n",
       "      <th>toxicity_mean</th>\n",
       "    </tr>\n",
       "  </thead>\n",
       "  <tbody>\n",
       "    <tr>\n",
       "      <th>0</th>\n",
       "      <td>85</td>\n",
       "      <td>female</td>\n",
       "      <td>0</td>\n",
       "      <td>18-30</td>\n",
       "      <td>bachelors</td>\n",
       "      <td>0.115672</td>\n",
       "    </tr>\n",
       "    <tr>\n",
       "      <th>1</th>\n",
       "      <td>1617</td>\n",
       "      <td>female</td>\n",
       "      <td>0</td>\n",
       "      <td>45-60</td>\n",
       "      <td>bachelors</td>\n",
       "      <td>0.098540</td>\n",
       "    </tr>\n",
       "    <tr>\n",
       "      <th>2</th>\n",
       "      <td>1394</td>\n",
       "      <td>female</td>\n",
       "      <td>0</td>\n",
       "      <td>NaN</td>\n",
       "      <td>bachelors</td>\n",
       "      <td>0.307692</td>\n",
       "    </tr>\n",
       "    <tr>\n",
       "      <th>3</th>\n",
       "      <td>311</td>\n",
       "      <td>male</td>\n",
       "      <td>0</td>\n",
       "      <td>30-45</td>\n",
       "      <td>bachelors</td>\n",
       "      <td>0.184783</td>\n",
       "    </tr>\n",
       "    <tr>\n",
       "      <th>4</th>\n",
       "      <td>1980</td>\n",
       "      <td>male</td>\n",
       "      <td>0</td>\n",
       "      <td>45-60</td>\n",
       "      <td>masters</td>\n",
       "      <td>0.174089</td>\n",
       "    </tr>\n",
       "  </tbody>\n",
       "</table>\n",
       "</div>"
      ],
      "text/plain": [
       "   worker_id  gender  english_first_language age_group  education  \\\n",
       "0         85  female                       0     18-30  bachelors   \n",
       "1       1617  female                       0     45-60  bachelors   \n",
       "2       1394  female                       0       NaN  bachelors   \n",
       "3        311    male                       0     30-45  bachelors   \n",
       "4       1980    male                       0     45-60    masters   \n",
       "\n",
       "   toxicity_mean  \n",
       "0       0.115672  \n",
       "1       0.098540  \n",
       "2       0.307692  \n",
       "3       0.184783  \n",
       "4       0.174089  "
      ]
     },
     "execution_count": 125,
     "metadata": {},
     "output_type": "execute_result"
    },
    {
     "data": {
      "text/html": [
       "<div>\n",
       "<style scoped>\n",
       "    .dataframe tbody tr th:only-of-type {\n",
       "        vertical-align: middle;\n",
       "    }\n",
       "\n",
       "    .dataframe tbody tr th {\n",
       "        vertical-align: top;\n",
       "    }\n",
       "\n",
       "    .dataframe thead th {\n",
       "        text-align: right;\n",
       "    }\n",
       "</style>\n",
       "<table border=\"1\" class=\"dataframe\">\n",
       "  <thead>\n",
       "    <tr style=\"text-align: right;\">\n",
       "      <th></th>\n",
       "      <th>gender</th>\n",
       "      <th>worker_id_count</th>\n",
       "      <th>rev_id_count</th>\n",
       "      <th>toxicity_mean</th>\n",
       "      <th>worker_id_pct</th>\n",
       "      <th>rev_id_pct</th>\n",
       "    </tr>\n",
       "  </thead>\n",
       "  <tbody>\n",
       "    <tr>\n",
       "      <th>0</th>\n",
       "      <td>female</td>\n",
       "      <td>1263</td>\n",
       "      <td>274599</td>\n",
       "      <td>0.157328</td>\n",
       "      <td>35.18</td>\n",
       "      <td>34.01</td>\n",
       "    </tr>\n",
       "    <tr>\n",
       "      <th>1</th>\n",
       "      <td>male</td>\n",
       "      <td>2327</td>\n",
       "      <td>532896</td>\n",
       "      <td>0.140279</td>\n",
       "      <td>64.82</td>\n",
       "      <td>65.99</td>\n",
       "    </tr>\n",
       "  </tbody>\n",
       "</table>\n",
       "</div>"
      ],
      "text/plain": [
       "   gender  worker_id_count  rev_id_count  toxicity_mean  worker_id_pct  \\\n",
       "0  female             1263        274599       0.157328          35.18   \n",
       "1    male             2327        532896       0.140279          64.82   \n",
       "\n",
       "   rev_id_pct  \n",
       "0       34.01  \n",
       "1       65.99  "
      ]
     },
     "execution_count": 125,
     "metadata": {},
     "output_type": "execute_result"
    },
    {
     "data": {
      "text/html": [
       "<div>\n",
       "<style scoped>\n",
       "    .dataframe tbody tr th:only-of-type {\n",
       "        vertical-align: middle;\n",
       "    }\n",
       "\n",
       "    .dataframe tbody tr th {\n",
       "        vertical-align: top;\n",
       "    }\n",
       "\n",
       "    .dataframe thead th {\n",
       "        text-align: right;\n",
       "    }\n",
       "</style>\n",
       "<table border=\"1\" class=\"dataframe\">\n",
       "  <thead>\n",
       "    <tr style=\"text-align: right;\">\n",
       "      <th></th>\n",
       "      <th>age_group</th>\n",
       "      <th>worker_id_count</th>\n",
       "      <th>rev_id_count</th>\n",
       "      <th>toxicity_mean</th>\n",
       "      <th>worker_id_pct</th>\n",
       "      <th>rev_id_pct</th>\n",
       "    </tr>\n",
       "  </thead>\n",
       "  <tbody>\n",
       "    <tr>\n",
       "      <th>0</th>\n",
       "      <td>18-30</td>\n",
       "      <td>1862</td>\n",
       "      <td>425128</td>\n",
       "      <td>0.141816</td>\n",
       "      <td>53.00</td>\n",
       "      <td>53.82</td>\n",
       "    </tr>\n",
       "    <tr>\n",
       "      <th>1</th>\n",
       "      <td>30-45</td>\n",
       "      <td>1247</td>\n",
       "      <td>280814</td>\n",
       "      <td>0.149494</td>\n",
       "      <td>35.50</td>\n",
       "      <td>35.55</td>\n",
       "    </tr>\n",
       "    <tr>\n",
       "      <th>2</th>\n",
       "      <td>45-60</td>\n",
       "      <td>296</td>\n",
       "      <td>61552</td>\n",
       "      <td>0.165405</td>\n",
       "      <td>8.43</td>\n",
       "      <td>7.79</td>\n",
       "    </tr>\n",
       "    <tr>\n",
       "      <th>3</th>\n",
       "      <td>Over 60</td>\n",
       "      <td>30</td>\n",
       "      <td>5805</td>\n",
       "      <td>0.154522</td>\n",
       "      <td>0.85</td>\n",
       "      <td>0.73</td>\n",
       "    </tr>\n",
       "    <tr>\n",
       "      <th>4</th>\n",
       "      <td>Under 18</td>\n",
       "      <td>78</td>\n",
       "      <td>16567</td>\n",
       "      <td>0.120662</td>\n",
       "      <td>2.22</td>\n",
       "      <td>2.10</td>\n",
       "    </tr>\n",
       "  </tbody>\n",
       "</table>\n",
       "</div>"
      ],
      "text/plain": [
       "  age_group  worker_id_count  rev_id_count  toxicity_mean  worker_id_pct  \\\n",
       "0     18-30             1862        425128       0.141816          53.00   \n",
       "1     30-45             1247        280814       0.149494          35.50   \n",
       "2     45-60              296         61552       0.165405           8.43   \n",
       "3   Over 60               30          5805       0.154522           0.85   \n",
       "4  Under 18               78         16567       0.120662           2.22   \n",
       "\n",
       "   rev_id_pct  \n",
       "0       53.82  \n",
       "1       35.55  \n",
       "2        7.79  \n",
       "3        0.73  \n",
       "4        2.10  "
      ]
     },
     "execution_count": 125,
     "metadata": {},
     "output_type": "execute_result"
    },
    {
     "data": {
      "text/html": [
       "<div>\n",
       "<style scoped>\n",
       "    .dataframe tbody tr th:only-of-type {\n",
       "        vertical-align: middle;\n",
       "    }\n",
       "\n",
       "    .dataframe tbody tr th {\n",
       "        vertical-align: top;\n",
       "    }\n",
       "\n",
       "    .dataframe thead th {\n",
       "        text-align: right;\n",
       "    }\n",
       "</style>\n",
       "<table border=\"1\" class=\"dataframe\">\n",
       "  <thead>\n",
       "    <tr style=\"text-align: right;\">\n",
       "      <th></th>\n",
       "      <th>education</th>\n",
       "      <th>worker_id_count</th>\n",
       "      <th>rev_id_count</th>\n",
       "      <th>toxicity_mean</th>\n",
       "      <th>worker_id_pct</th>\n",
       "      <th>rev_id_pct</th>\n",
       "    </tr>\n",
       "  </thead>\n",
       "  <tbody>\n",
       "    <tr>\n",
       "      <th>0</th>\n",
       "      <td>bachelors</td>\n",
       "      <td>1441</td>\n",
       "      <td>323555</td>\n",
       "      <td>0.150336</td>\n",
       "      <td>40.14</td>\n",
       "      <td>40.07</td>\n",
       "    </tr>\n",
       "    <tr>\n",
       "      <th>1</th>\n",
       "      <td>doctorate</td>\n",
       "      <td>41</td>\n",
       "      <td>8777</td>\n",
       "      <td>0.133189</td>\n",
       "      <td>1.14</td>\n",
       "      <td>1.09</td>\n",
       "    </tr>\n",
       "    <tr>\n",
       "      <th>2</th>\n",
       "      <td>hs</td>\n",
       "      <td>1025</td>\n",
       "      <td>228649</td>\n",
       "      <td>0.142590</td>\n",
       "      <td>28.55</td>\n",
       "      <td>28.32</td>\n",
       "    </tr>\n",
       "    <tr>\n",
       "      <th>3</th>\n",
       "      <td>masters</td>\n",
       "      <td>546</td>\n",
       "      <td>123287</td>\n",
       "      <td>0.146958</td>\n",
       "      <td>15.21</td>\n",
       "      <td>15.27</td>\n",
       "    </tr>\n",
       "    <tr>\n",
       "      <th>4</th>\n",
       "      <td>none</td>\n",
       "      <td>3</td>\n",
       "      <td>588</td>\n",
       "      <td>0.127551</td>\n",
       "      <td>0.08</td>\n",
       "      <td>0.07</td>\n",
       "    </tr>\n",
       "  </tbody>\n",
       "</table>\n",
       "</div>"
      ],
      "text/plain": [
       "   education  worker_id_count  rev_id_count  toxicity_mean  worker_id_pct  \\\n",
       "0  bachelors             1441        323555       0.150336          40.14   \n",
       "1  doctorate               41          8777       0.133189           1.14   \n",
       "2         hs             1025        228649       0.142590          28.55   \n",
       "3    masters              546        123287       0.146958          15.21   \n",
       "4       none                3           588       0.127551           0.08   \n",
       "\n",
       "   rev_id_pct  \n",
       "0       40.07  \n",
       "1        1.09  \n",
       "2       28.32  \n",
       "3       15.27  \n",
       "4        0.07  "
      ]
     },
     "execution_count": 125,
     "metadata": {},
     "output_type": "execute_result"
    }
   ],
   "source": [
    "toxicity_dmgraph_w_avg_rating = worker_avg_hostility_rating(toxicity_base_trn,toxicity_demographics,'toxicity')\n",
    "\n",
    "toxicity_smry_by_gender   = summary_by_demography(toxicity_base_trn,'gender','toxicity')\n",
    "toxicity_smry_by_age      = summary_by_demography(toxicity_base_trn,'age_group','toxicity')\n",
    "toxicity_smry_by_education= summary_by_demography(toxicity_base_trn,'education','toxicity')\n",
    "\n",
    "toxicity_dmgraph_w_avg_rating.head()\n",
    "toxicity_smry_by_gender.head()\n",
    "toxicity_smry_by_age.head()\n",
    "toxicity_smry_by_education.head()"
   ]
  },
  {
   "cell_type": "markdown",
   "metadata": {},
   "source": [
    "### Plotting distribution of % workers/annotations and mean toxicity rating by gender"
   ]
  },
  {
   "cell_type": "code",
   "execution_count": 126,
   "metadata": {},
   "outputs": [
    {
     "data": {
      "image/png": "[encoded data removed]",
      "text/plain": [
       "<Figure size 1080x432 with 2 Axes>"
      ]
     },
     "metadata": {
      "needs_background": "light"
     },
     "output_type": "display_data"
    }
   ],
   "source": [
    "demography_plot(toxicity_smry_by_gender,toxicity_dmgraph_w_avg_rating,'toxicity','gender')"
   ]
  },
  {
   "cell_type": "markdown",
   "metadata": {},
   "source": [
    "For toxicity, just like aggression, the distribution of workers and annotations are skewed towards male group. However, the difference in the labelling behavior is not quite pronounced as aggression. Female group still has a higher mean toxicity rating (0.157) compared to the male group (0.140)"
   ]
  },
  {
   "cell_type": "markdown",
   "metadata": {},
   "source": [
    "### Plotting distribution of % workers/annotations and mean toxicity rating by age group"
   ]
  },
  {
   "cell_type": "code",
   "execution_count": 127,
   "metadata": {},
   "outputs": [
    {
     "data": {
      "image/png": "[encoded data removed]",
      "text/plain": [
       "<Figure size 1080x432 with 2 Axes>"
      ]
     },
     "metadata": {
      "needs_background": "light"
     },
     "output_type": "display_data"
    }
   ],
   "source": [
    "demography_plot(toxicity_smry_by_age,toxicity_dmgraph_w_avg_rating,'toxicity','age_group')"
   ]
  },
  {
   "cell_type": "markdown",
   "metadata": {},
   "source": [
    "A similar trend is followed in the age group distribution as well for toxicity, as workers in the younger age group have a higher tolerance for labelling toxic comments compared to the workers in the older age groups."
   ]
  },
  {
   "cell_type": "markdown",
   "metadata": {},
   "source": [
    "### Plotting distribution of % workers/annotations and mean toxicity rating by education"
   ]
  },
  {
   "cell_type": "code",
   "execution_count": 128,
   "metadata": {},
   "outputs": [
    {
     "data": {
      "image/png": "[encoded data removed]",
      "text/plain": [
       "<Figure size 1080x432 with 2 Axes>"
      ]
     },
     "metadata": {
      "needs_background": "light"
     },
     "output_type": "display_data"
    }
   ],
   "source": [
    "demography_plot(toxicity_smry_by_education,toxicity_dmgraph_w_avg_rating,'toxicity','education')"
   ]
  },
  {
   "cell_type": "markdown",
   "metadata": {},
   "source": [
    "In terms of education, there is no noticeable difference in the labelling behavior across different education levels"
   ]
  },
  {
   "cell_type": "markdown",
   "metadata": {},
   "source": [
    "## Bias Analysis observations\n",
    "\n"
   ]
  },
  {
   "cell_type": "markdown",
   "metadata": {},
   "source": [
    "1) Is there any unintended bias in the training data with respect to the labelling and distribution of identity terms in the comments? \n",
    "* As observed in both aggression and toxicity training data, there is a bias in the representation of identity terms in the hostile comments. Comments with terms such as 'gay', 'homosexual' and 'queer' have a high chance of being labelled as toxic or aggressive by the trained ML model. \n",
    "* Also the appearance of such terms in the hostile comments are disproportionately high compared to their overall appearance in the training data. This is observed only in select identity groups and not all terms that we considered for our analysis\n",
    "* A more balanced representation of identity groups in the training data might help train the ML model more effectively (For example by adding more comments with identity terms that convey a positive emotion)\n",
    "\n",
    "2) How consistent are the labelling behaviours between annotation workers across gender, age and education? \n",
    "* It is observed that the distribution is not balanced across the demographic profiles such as gender, age and education. While female group is under-representated in the training data in both toxicity and aggression, their groups also have a higher average scores for toxic and aggressive comments. Similarly, age group 18-30 account for more than 50% of the training data but have a higher tolerance for both toxicity and aggression. There is no obvious bias observed in the education levels, though the possibility of bias cannot be completely ruled out "
   ]
  },
  {
   "cell_type": "markdown",
   "metadata": {},
   "source": [
    "## Step 2: Discuss further implications\n",
    "\n",
    "1. Which, if any, of these demo applications would you expect the Perspective API—or any model trained on the Wikipedia Talk corpus—to perform well in? Why?\n",
    "\n",
    " * The Perspective API would work well on comments filter and sliders for organizing comments particularly on topics that are difficult to discuss on platforms like Facebook, Twitter, Reddit and Youtube. I like the fact that the tool allows the readers to control the toxicity score so that the reader can go through some meaningful discussions without having to read some toxic comments. Barring the unintended bias it has on select terms, I still think the model would do a fairly good job of filtering out or organizing the comments for majority of the articles. Given the exponential growth of social networks and as a consequence rise in hate speech and abuse, such an utility tool will be really powerful.\n",
    "\n",
    "5. What are some potential unintended, negative consequences of using the Perspective API for any of these purposes? In your opinion, are these consequences likely or serious enough that you would recommend that the Perspective API not be used in these applications? Why or why not?\n",
    "\n",
    " * Based on the analysis, some of the unintended consequences of using the Perspective API might occur when it is used to analyze sensitive articles such as articles around womens rights or LGBTQ rights. For example, the hot topic application, which predicts the toxicity of an unpublished article might have a higher toxicity score for an article discussing LGBTQ rights, when in reality, it may not necessarily be the case and might afeect the release of the article. Having said that, The API would still work well on 90% of the cases and I would ensure that the models are trained on data with as much minimal bias as possible before using it to moderate or analyze all articles.\n",
    "\n",
    "6. Imagine you are one of the Google data scientists who maintains the Perspective API. If you wanted to improve the model or the API itself to make it work better for any of these purposes, how should they go about doing that?\n",
    "\n",
    " * Based on the analysis done so far, one of the major findings from the training data behind Perspective API is the presence of unintended bias in the representation of identity terms. If I were to improve the models powering the Perspective API, I would try to sample a more balanced training data so that the over representation of terms that are not meant to be toxic/aggressive are nullified to an extent. While this might a change in the sampling strategy (stratified sampling to bring a balance), I believe the data will be a better representation of select terms and would be especially useful when the Perspective API is used to moderate articles revolving around civil rights."
   ]
  },
  {
   "cell_type": "code",
   "execution_count": null,
   "metadata": {},
   "outputs": [],
   "source": []
  }
 ],
 "metadata": {
  "kernelspec": {
   "display_name": "Python 3",
   "language": "python",
   "name": "python3"
  },
  "language_info": {
   "codemirror_mode": {
    "name": "ipython",
    "version": 3
   },
   "file_extension": ".py",
   "mimetype": "text/x-python",
   "name": "python",
   "nbconvert_exporter": "python",
   "pygments_lexer": "ipython3",
   "version": "3.7.4"
  }
 },
 "nbformat": 4,
 "nbformat_minor": 4
}
